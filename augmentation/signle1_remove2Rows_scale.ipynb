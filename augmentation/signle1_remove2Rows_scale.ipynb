{
 "cells": [
  {
   "cell_type": "code",
   "execution_count": 1,
   "metadata": {},
   "outputs": [
    {
     "name": "stderr",
     "output_type": "stream",
     "text": [
      "C:\\ProgramData\\Anaconda3\\lib\\site-packages\\statsmodels\\tools\\_testing.py:19: FutureWarning: pandas.util.testing is deprecated. Use the functions in the public API at pandas.testing instead.\n",
      "  import pandas.util.testing as tm\n"
     ]
    }
   ],
   "source": [
    "import pandas as pd\n",
    "import numpy as np\n",
    "import os\n",
    "from sklearn import preprocessing\n",
    "from sklearn.preprocessing import MinMaxScaler\n",
    "pd.options.display.max_rows = None\n",
    "pd.set_option('display.max_columns', 500)\n",
    "import sys\n",
    "#np.set_printoptions(threshold=sys.maxsize)\n",
    "np.set_printoptions(threshold=np.inf)\n",
    "from pathlib import Path\n",
    "\n",
    "pathCurrrent= Path.cwd()\n",
    "pathMainCodes=Path.cwd().parent\n",
    "pathCurrrent=str(pathCurrrent).replace(\"\\\\\", '/')\n",
    "pathMainCodes=str(pathMainCodes).replace(\"\\\\\", '/')\n",
    "pathData=pathMainCodes+\"/data/paperMachine/\""
   ]
  },
  {
   "cell_type": "code",
   "execution_count": null,
   "metadata": {},
   "outputs": [],
   "source": []
  },
  {
   "cell_type": "markdown",
   "metadata": {},
   "source": [
    "# Create dataset with signle 1 as labeled and remove two rows after each labeled 1, Then scaled data"
   ]
  },
  {
   "cell_type": "code",
   "execution_count": 21,
   "metadata": {},
   "outputs": [],
   "source": [
    "#dfpd = pd.read_csv(\"data/paperMachine/processminer-rare-event-mts - tag-map.csv\")# columns' descriptions\n",
    "#dfpAll = pd.read_csv(pathMainCodes+\"/data/paperMachine/paperMachine_NewFromWeb/processminer_rep1_4min_desc_aug.csv\")# with all repetetive breaks(1 as labeled)\n",
    "\n",
    "# dfpAll.rename(columns={'y': 'label'}, inplace=True)\n",
    "# dfpAll[\"time\"]= pd.to_datetime(dfpAll[\"time\"])\n",
    "# dfpAll['time']=dfpAll['time'].dt.strftime('%m-%d %H:%M')\n",
    "# dfpAll = dfpAll.drop(['x28', 'x61'], axis=1)\n",
    "# Main focused dataset that i work on that\n"
   ]
  },
  {
   "cell_type": "code",
   "execution_count": 22,
   "metadata": {},
   "outputs": [],
   "source": [
    "# dfpAll[\"label\"]=dfpAll[\"label\"].loc[(dfpAll[\"label\"].shift()!= 1)]\n",
    "# dfpAll = dfpAll[dfpAll['label'].notna()]\n",
    "# dfpAll.reset_index(drop=True,inplace=True)\n",
    "\n",
    "# dfpAll=dfpAll.drop(dfpAll.loc[dfpAll['label'] == 1].index+1)\n",
    "# dfpAll.reset_index(drop=True,inplace=True)"
   ]
  },
  {
   "cell_type": "code",
   "execution_count": 23,
   "metadata": {},
   "outputs": [],
   "source": [
    "# min_max_scaler = preprocessing.MinMaxScaler(feature_range=(-1, 1))\n",
    "# x_scaled = min_max_scaler.fit_transform(dfpAll.iloc[:,2:].values)\n",
    "# dfpAllScale = pd.DataFrame(x_scaled)\n",
    "# dfpAllScale=pd.concat([dfpAll.iloc[:,[0,1]],dfpAllScale],axis=1)"
   ]
  },
  {
   "cell_type": "code",
   "execution_count": 24,
   "metadata": {},
   "outputs": [],
   "source": [
    "# dfpAllScale.to_csv(pathData+'dfpAllScale_2RowsDel.csv',index=None)##################################"
   ]
  },
  {
   "cell_type": "code",
   "execution_count": 26,
   "metadata": {},
   "outputs": [],
   "source": []
  },
  {
   "cell_type": "code",
   "execution_count": null,
   "metadata": {},
   "outputs": [],
   "source": [
    "# dfp=dfp.reset_index()\n",
    "# dfp.index=dfp[\"time\"]\n",
    "# dfp.drop(['time','index'], axis=1, inplace=True)\n",
    "# dfpNorm=dfp[dfp[\"label\"]==0]# filtered Normal data\n",
    "# dfpAnorm=dfp[dfp[\"label\"]!=0]# filtered Abnormal data"
   ]
  },
  {
   "cell_type": "code",
   "execution_count": null,
   "metadata": {},
   "outputs": [],
   "source": [
    "# dfpAnorm.reshape((dfpAnorm.shape[0], dfpAnorm.shape[1], 1))"
   ]
  },
  {
   "cell_type": "code",
   "execution_count": null,
   "metadata": {},
   "outputs": [],
   "source": [
    "\n",
    "# a=np.array([[[0,3], [1,4], [2,5]]])\n",
    "# b=np.reshape(a,(3,2,1))\n",
    "# c=np.squeeze(b, axis=2)"
   ]
  },
  {
   "cell_type": "markdown",
   "metadata": {},
   "source": [
    "# End of creation dfpAllScale.csv"
   ]
  },
  {
   "cell_type": "code",
   "execution_count": null,
   "metadata": {},
   "outputs": [],
   "source": []
  },
  {
   "cell_type": "code",
   "execution_count": null,
   "metadata": {},
   "outputs": [],
   "source": [
    "# dfShifted2 = dfShifted2.drop(['index0', 'time'], axis=1)"
   ]
  },
  {
   "cell_type": "code",
   "execution_count": null,
   "metadata": {},
   "outputs": [],
   "source": [
    "# from sklearn.model_selection import train_test_split\n",
    "# X_train, X_test, y_train, y_test = train_test_split(dfShifted2.iloc[:,2:], dfShifted2.iloc[:,0],\\\n",
    "#                                                     test_size=0.33, random_state=42,shuffle=False)"
   ]
  },
  {
   "cell_type": "code",
   "execution_count": null,
   "metadata": {},
   "outputs": [],
   "source": [
    "dfp0[:5]"
   ]
  },
  {
   "cell_type": "code",
   "execution_count": null,
   "metadata": {},
   "outputs": [],
   "source": [
    "t=dfp0['time']"
   ]
  },
  {
   "cell_type": "code",
   "execution_count": null,
   "metadata": {},
   "outputs": [],
   "source": [
    "y=y.drop([0], axis = 0)"
   ]
  },
  {
   "cell_type": "code",
   "execution_count": null,
   "metadata": {},
   "outputs": [],
   "source": [
    "y[:3]"
   ]
  },
  {
   "cell_type": "code",
   "execution_count": null,
   "metadata": {},
   "outputs": [],
   "source": [
    "y=pd.concat([t,y],axis=1)"
   ]
  },
  {
   "cell_type": "code",
   "execution_count": null,
   "metadata": {},
   "outputs": [],
   "source": [
    "y[:4]"
   ]
  },
  {
   "cell_type": "code",
   "execution_count": null,
   "metadata": {},
   "outputs": [],
   "source": [
    "pd.DataFrame(dfShifted2.values[:100].tolist())"
   ]
  },
  {
   "cell_type": "code",
   "execution_count": null,
   "metadata": {},
   "outputs": [],
   "source": [
    "pd.DataFrame(np.array(dfShifted2.values[:100].tolist()))"
   ]
  },
  {
   "cell_type": "code",
   "execution_count": null,
   "metadata": {},
   "outputs": [],
   "source": [
    "dfShifted2.values[:2]"
   ]
  },
  {
   "cell_type": "code",
   "execution_count": null,
   "metadata": {},
   "outputs": [],
   "source": [
    "dfShifted2np=dfShifted2[:2].to_numpy()"
   ]
  },
  {
   "cell_type": "code",
   "execution_count": null,
   "metadata": {},
   "outputs": [],
   "source": [
    "dfShifted2np"
   ]
  },
  {
   "cell_type": "code",
   "execution_count": null,
   "metadata": {},
   "outputs": [],
   "source": [
    "dfShifted2npBr=str(dfShifted2np).lstrip('[').rstrip(']')"
   ]
  },
  {
   "cell_type": "code",
   "execution_count": null,
   "metadata": {},
   "outputs": [],
   "source": [
    "dfShifted2npBr"
   ]
  },
  {
   "cell_type": "code",
   "execution_count": null,
   "metadata": {},
   "outputs": [],
   "source": [
    "dfShifted2npBrEn=dfShifted2npBr.replace('\\n',',')"
   ]
  },
  {
   "cell_type": "code",
   "execution_count": null,
   "metadata": {},
   "outputs": [],
   "source": [
    "dfShifted2npBrEn"
   ]
  },
  {
   "cell_type": "code",
   "execution_count": null,
   "metadata": {},
   "outputs": [],
   "source": [
    "dfShifted2np=dfShifted2np.replace('[','')"
   ]
  },
  {
   "cell_type": "code",
   "execution_count": null,
   "metadata": {},
   "outputs": [],
   "source": [
    "dfShifted2np"
   ]
  },
  {
   "cell_type": "code",
   "execution_count": null,
   "metadata": {},
   "outputs": [],
   "source": [
    "dfShifted2np=dfShifted2np.replace(\"          \",',')"
   ]
  },
  {
   "cell_type": "code",
   "execution_count": null,
   "metadata": {},
   "outputs": [],
   "source": [
    "print(dfShifted2np)"
   ]
  },
  {
   "cell_type": "code",
   "execution_count": null,
   "metadata": {},
   "outputs": [],
   "source": [
    "dfShifted2np=dfShifted2np.replace(\"\\n\",\" \")"
   ]
  },
  {
   "cell_type": "code",
   "execution_count": null,
   "metadata": {},
   "outputs": [],
   "source": [
    "dfShifted2np"
   ]
  },
  {
   "cell_type": "code",
   "execution_count": null,
   "metadata": {},
   "outputs": [],
   "source": []
  },
  {
   "cell_type": "code",
   "execution_count": null,
   "metadata": {},
   "outputs": [],
   "source": []
  },
  {
   "cell_type": "code",
   "execution_count": null,
   "metadata": {},
   "outputs": [],
   "source": []
  }
 ],
 "metadata": {
  "kernelspec": {
   "display_name": "Python 3",
   "language": "python",
   "name": "python3"
  },
  "language_info": {
   "codemirror_mode": {
    "name": "ipython",
    "version": 3
   },
   "file_extension": ".py",
   "mimetype": "text/x-python",
   "name": "python",
   "nbconvert_exporter": "python",
   "pygments_lexer": "ipython3",
   "version": "3.7.4"
  }
 },
 "nbformat": 4,
 "nbformat_minor": 2
}

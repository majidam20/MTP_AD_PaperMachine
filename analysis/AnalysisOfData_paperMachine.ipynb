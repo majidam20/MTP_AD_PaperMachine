{
 "cells": [
  {
   "cell_type": "markdown",
   "metadata": {},
   "source": [
    "# The most important plots in order to analyze paper Machine dataset"
   ]
  },
  {
   "cell_type": "code",
   "execution_count": null,
   "metadata": {
    "ExecuteTime": {
     "end_time": "2020-10-22T22:28:50.642700Z",
     "start_time": "2020-10-22T22:28:49.103828Z"
    },
    "hide_input": false
   },
   "outputs": [],
   "source": [
    "import statsmodels\n",
    "from statsmodels.graphics.tsaplots import plot_pacf\n",
    "from statsmodels.graphics.tsaplots import plot_acf\n",
    "from datetime import datetime\n",
    "import matplotlib as mpl\n",
    "from dateutil.parser import parse\n",
    "import pandas as pd\n",
    "import numpy as np\n",
    "import seaborn as sns\n",
    "import matplotlib.pyplot as plt\n",
    "import plotly.express as px\n",
    "import plotly.graph_objs as pltly\n",
    "from plotly.offline import iplot\n",
    "import plotly.graph_objects as go\n",
    "import plotly.figure_factory as ff\n",
    "from plotly.subplots import make_subplots\n",
    "import plotly\n",
    "import pathlib\n",
    "import itertools\n",
    "pd.options.display.max_rows = None\n",
    "pd.set_option('display.max_columns', 500)\n",
    "\n",
    "\n",
    "from sklearn import preprocessing\n",
    "import pingouin as pg\n",
    "import seglearn as sg\n",
    "import tsfresh\n",
    "import xgboost as xg\n",
    "import imblearn as im\n",
    "\n"
   ]
  },
  {
   "cell_type": "markdown",
   "metadata": {},
   "source": [
    "# dfp -->> Main focused dataset that i work on that"
   ]
  },
  {
   "cell_type": "code",
   "execution_count": null,
   "metadata": {},
   "outputs": [],
   "source": [
    "dfpd = pd.read_csv(\"data/paperMachine/processminer-rare-event-mts - tag-map.csv\")# columns' descriptions\n",
    "dfp0 = pd.read_csv(\"data/paperMachine/processminer-rare-event-mts - data.csv\")# dataset without any preprocessing\n",
    "dfp = pd.read_csv(\"data/paperMachine/processminer-rare-event-mts - data.csv\")# Main focused dataset that i work on that\n",
    "dfpAll = pd.read_csv(\"data/paperMachine/processminer-rare-event-detection-data-augmentation2.csv\")# with all repetetive breaks(1 as labeled)\n",
    "dfp.rename(columns={'y': 'label'}, inplace=True)\n",
    "dfp0.rename(columns={'y': 'label'}, inplace=True)\n",
    "dfp0Norm=dfp0[dfp0[\"label\"]==0]\n",
    "dfp0Anorm=dfp0[dfp0[\"label\"]!=0]"
   ]
  },
  {
   "cell_type": "code",
   "execution_count": null,
   "metadata": {},
   "outputs": [],
   "source": [
    "#test git after test ignore"
   ]
  },
  {
   "cell_type": "code",
   "execution_count": null,
   "metadata": {},
   "outputs": [],
   "source": [
    "# dfpPey=dfpAll"
   ]
  },
  {
   "cell_type": "code",
   "execution_count": null,
   "metadata": {},
   "outputs": [],
   "source": [
    "# x = dfpAll.iloc[:,2:].values #returns a numpy array\n",
    "# min_max_scaler = preprocessing.MinMaxScaler(feature_range=(-10, 10))\n",
    "# x_scaled = min_max_scaler.fit_transform(x)\n",
    "# dfpAllScale = pd.DataFrame(x_scaled)"
   ]
  },
  {
   "cell_type": "code",
   "execution_count": null,
   "metadata": {},
   "outputs": [],
   "source": [
    "# dfscaled['time']=0\n",
    "# dfscaled['label']=0"
   ]
  },
  {
   "cell_type": "code",
   "execution_count": null,
   "metadata": {},
   "outputs": [],
   "source": [
    "# dfscaled[:5]"
   ]
  },
  {
   "cell_type": "code",
   "execution_count": null,
   "metadata": {},
   "outputs": [],
   "source": [
    "# dfpAllScale['time']=dfpPey.iloc[:,1]\n",
    "# dfpAllScale['label']=dfpPey.iloc[:,2]"
   ]
  },
  {
   "cell_type": "code",
   "execution_count": null,
   "metadata": {},
   "outputs": [],
   "source": [
    "# dfpAllScale.to_csv('data/paperMachine/dfpAllScale.csv')"
   ]
  },
  {
   "cell_type": "code",
   "execution_count": null,
   "metadata": {},
   "outputs": [],
   "source": [
    "# dfpAllScale[:5]"
   ]
  },
  {
   "cell_type": "code",
   "execution_count": null,
   "metadata": {},
   "outputs": [],
   "source": []
  },
  {
   "cell_type": "code",
   "execution_count": null,
   "metadata": {},
   "outputs": [],
   "source": [
    "dfp.columns"
   ]
  },
  {
   "cell_type": "code",
   "execution_count": null,
   "metadata": {},
   "outputs": [],
   "source": [
    "dfp[\"time\"]= pd.to_datetime(dfp[\"time\"])\n",
    "dfp['time']=dfp['time'].dt.strftime('%m-%d %H:%M')"
   ]
  },
  {
   "cell_type": "code",
   "execution_count": null,
   "metadata": {},
   "outputs": [],
   "source": [
    "# dfao[\"Timestamp\"].value_counts()\n",
    "# values = dfao[\"Timestamp\"].value_counts().keys().tolist()\n",
    "# counts = dfao[\"Timestamp\"].value_counts().tolist()\n",
    "# p=pd.DataFrame([counts,values])\n",
    "# p.T\n",
    "# p.T.describe()\n",
    "# p.T.iloc[:,0].sum()\n",
    "#**\n",
    "#dfasNormUniq.groupby(['Labels']).corr()\n",
    "# l1=[0,1,2,3]*2\n",
    "# x1=[0,1,2,3,4,5,6]\n",
    "# li=np.repeat(x1,3)\n",
    "#**\n",
    "# from cydets.algorithm import detect_cycles\n",
    "# series = pd.Series(dfas0['Timestamp'].tolist())\n",
    "# detect_cycles(series)"
   ]
  },
  {
   "cell_type": "code",
   "execution_count": null,
   "metadata": {},
   "outputs": [],
   "source": [
    "dfp.head()"
   ]
  },
  {
   "cell_type": "code",
   "execution_count": null,
   "metadata": {},
   "outputs": [],
   "source": []
  },
  {
   "cell_type": "markdown",
   "metadata": {},
   "source": [
    "# dfpNorm -->> filtered Normal data\n",
    "\n",
    "# dfpAnorm -->> filtered Abnormal data"
   ]
  },
  {
   "cell_type": "code",
   "execution_count": null,
   "metadata": {},
   "outputs": [],
   "source": [
    "dfp=dfp.reset_index()\n",
    "dfp.index=dfp[\"time\"]\n",
    "dfp.drop(['time','index'], axis=1, inplace=True)\n",
    "dfpNorm=dfp[dfp[\"label\"]==0]# filtered Normal data\n",
    "dfpAnorm=dfp[dfp[\"label\"]!=0]# filtered Abnormal data"
   ]
  },
  {
   "cell_type": "code",
   "execution_count": null,
   "metadata": {},
   "outputs": [],
   "source": [
    "dfp[:5]"
   ]
  },
  {
   "cell_type": "code",
   "execution_count": null,
   "metadata": {},
   "outputs": [],
   "source": [
    "dfpNorm.to_csv(\"data/paperMachine/dfpNorm.csv\")"
   ]
  },
  {
   "cell_type": "code",
   "execution_count": null,
   "metadata": {},
   "outputs": [],
   "source": [
    "print(dfp.shape)\n",
    "print(dfpNorm.shape)\n",
    "print(dfpAnorm.shape)"
   ]
  },
  {
   "cell_type": "code",
   "execution_count": null,
   "metadata": {
    "pycharm": {
     "is_executing": true
    },
    "scrolled": true
   },
   "outputs": [],
   "source": [
    "print(\"dfp:\")\n",
    "pd.DataFrame(dfp.describe().transpose()).iloc[:,[1,2,3,7]]"
   ]
  },
  {
   "cell_type": "code",
   "execution_count": null,
   "metadata": {},
   "outputs": [],
   "source": []
  },
  {
   "cell_type": "code",
   "execution_count": null,
   "metadata": {
    "scrolled": true
   },
   "outputs": [],
   "source": [
    "dfpd"
   ]
  },
  {
   "cell_type": "code",
   "execution_count": null,
   "metadata": {
    "pycharm": {
     "is_executing": true,
     "name": "#%%\n"
    }
   },
   "outputs": [],
   "source": [
    "# Draw Plot\n",
    "def plot_df(df,x,y, title=\"\", xlabel='Value',ylabel='Value', dpi=200):\n",
    "    plt.figure(figsize=(16,15), dpi=dpi)\n",
    "    plt.plot(df,x,y, color='tab:red')\n",
    "    plt.gca().set(title=title, xlabel=xlabel, ylabel=ylabel)\n",
    "    plt.show()"
   ]
  },
  {
   "cell_type": "code",
   "execution_count": null,
   "metadata": {
    "scrolled": true
   },
   "outputs": [],
   "source": [
    "dfp.plot(subplots=True, figsize=(20,100),sharex =False,grid =True)\n"
   ]
  },
  {
   "cell_type": "code",
   "execution_count": null,
   "metadata": {
    "scrolled": true
   },
   "outputs": [],
   "source": [
    "dfpNorm.plot(subplots=True, figsize=(20,200),sharex=False,grid =True)"
   ]
  },
  {
   "cell_type": "code",
   "execution_count": null,
   "metadata": {
    "pycharm": {
     "is_executing": true,
     "name": "#%%\n"
    },
    "scrolled": true
   },
   "outputs": [],
   "source": [
    "dfpAnorm.plot(subplots=True, figsize=(20,200),sharex=False,grid =True)"
   ]
  },
  {
   "cell_type": "code",
   "execution_count": null,
   "metadata": {},
   "outputs": [],
   "source": []
  },
  {
   "cell_type": "code",
   "execution_count": null,
   "metadata": {
    "scrolled": true
   },
   "outputs": [],
   "source": [
    "dfp.plot(kind = 'line', figsize=(20,15),grid =True)"
   ]
  },
  {
   "cell_type": "code",
   "execution_count": null,
   "metadata": {
    "pycharm": {
     "is_executing": true
    },
    "scrolled": true
   },
   "outputs": [],
   "source": [
    "dfpNorm.plot(kind = 'line', figsize=(20,15),grid =True)"
   ]
  },
  {
   "cell_type": "code",
   "execution_count": null,
   "metadata": {
    "pycharm": {
     "is_executing": true
    },
    "scrolled": true
   },
   "outputs": [],
   "source": [
    "dfpAnorm.plot(kind = 'line', figsize=(20,15))"
   ]
  },
  {
   "cell_type": "code",
   "execution_count": null,
   "metadata": {
    "pycharm": {
     "is_executing": true,
     "name": "#%%\n"
    }
   },
   "outputs": [],
   "source": [
    "# pd.plotting.autocorrelation_plot(dfp.iloc[:,2])"
   ]
  },
  {
   "cell_type": "code",
   "execution_count": null,
   "metadata": {},
   "outputs": [],
   "source": [
    "dfp.columns"
   ]
  },
  {
   "cell_type": "code",
   "execution_count": null,
   "metadata": {
    "pycharm": {
     "is_executing": true
    }
   },
   "outputs": [],
   "source": [
    "dfp.iloc[:,44].autocorr(lag=1)"
   ]
  },
  {
   "cell_type": "code",
   "execution_count": null,
   "metadata": {
    "pycharm": {
     "is_executing": true
    }
   },
   "outputs": [],
   "source": [
    "# Draw Plot\n",
    "def plotDfACorr(df):\n",
    "    f1,ax = plt.subplots(len(df.columns),1 , figsize=(18, 100),sharex =False)\n",
    "    for i in range(len(df.columns)):\n",
    "        plot_acf(df.iloc[:,i],ax=ax[i],zero=False,title=df.columns[i])\n",
    "        ax[i].grid()\n",
    "    plt.show()"
   ]
  },
  {
   "cell_type": "code",
   "execution_count": null,
   "metadata": {
    "pycharm": {
     "is_executing": true
    }
   },
   "outputs": [],
   "source": [
    "# Draw Plot\n",
    "def plotDfPCorr(df):\n",
    "    f1,ax = plt.subplots(len(df.columns),1 , figsize=(18, 100),sharex =False)\n",
    "    for i in range(len(df.columns)):\n",
    "        plot_pacf(df.iloc[:,i],ax=ax[i],zero=False,title=df.columns[i])\n",
    "        ax[i].grid()\n",
    "    plt.show()"
   ]
  },
  {
   "cell_type": "markdown",
   "metadata": {},
   "source": [
    "# Autocorrelation plots"
   ]
  },
  {
   "cell_type": "code",
   "execution_count": null,
   "metadata": {
    "pycharm": {
     "is_executing": true
    },
    "scrolled": true
   },
   "outputs": [],
   "source": [
    "plotDfACorr(dfp)"
   ]
  },
  {
   "cell_type": "code",
   "execution_count": null,
   "metadata": {},
   "outputs": [],
   "source": []
  },
  {
   "cell_type": "code",
   "execution_count": null,
   "metadata": {
    "pycharm": {
     "is_executing": true
    },
    "scrolled": true
   },
   "outputs": [],
   "source": [
    "plotDfACorr(dfpNorm)"
   ]
  },
  {
   "cell_type": "code",
   "execution_count": null,
   "metadata": {},
   "outputs": [],
   "source": []
  },
  {
   "cell_type": "code",
   "execution_count": null,
   "metadata": {
    "scrolled": true
   },
   "outputs": [],
   "source": [
    "plotDfACorr(dfpAnorm)"
   ]
  },
  {
   "cell_type": "markdown",
   "metadata": {},
   "source": [
    "# Partial Correlation plots:"
   ]
  },
  {
   "cell_type": "code",
   "execution_count": null,
   "metadata": {},
   "outputs": [],
   "source": [
    "dfp.columns"
   ]
  },
  {
   "cell_type": "code",
   "execution_count": null,
   "metadata": {
    "scrolled": true
   },
   "outputs": [],
   "source": [
    "plotDfPCorr(dfp.iloc[:,1:])"
   ]
  },
  {
   "cell_type": "code",
   "execution_count": null,
   "metadata": {},
   "outputs": [],
   "source": []
  },
  {
   "cell_type": "code",
   "execution_count": null,
   "metadata": {},
   "outputs": [],
   "source": [
    "dfpNorm.columns"
   ]
  },
  {
   "cell_type": "code",
   "execution_count": null,
   "metadata": {
    "scrolled": true
   },
   "outputs": [],
   "source": [
    "plotDfPCorr(dfpNorm.iloc[:,1:-1])"
   ]
  },
  {
   "cell_type": "code",
   "execution_count": null,
   "metadata": {},
   "outputs": [],
   "source": []
  },
  {
   "cell_type": "code",
   "execution_count": null,
   "metadata": {
    "scrolled": true
   },
   "outputs": [],
   "source": [
    "plotDfPCorr(dfpAnorm.iloc[:,1:-1])"
   ]
  },
  {
   "cell_type": "code",
   "execution_count": null,
   "metadata": {},
   "outputs": [],
   "source": []
  },
  {
   "cell_type": "code",
   "execution_count": null,
   "metadata": {},
   "outputs": [],
   "source": []
  },
  {
   "cell_type": "code",
   "execution_count": null,
   "metadata": {},
   "outputs": [],
   "source": []
  },
  {
   "cell_type": "markdown",
   "metadata": {},
   "source": [
    "# pingouin.pcorr"
   ]
  },
  {
   "cell_type": "code",
   "execution_count": null,
   "metadata": {
    "scrolled": true
   },
   "outputs": [],
   "source": [
    "dfp.corr()"
   ]
  },
  {
   "cell_type": "code",
   "execution_count": null,
   "metadata": {},
   "outputs": [],
   "source": []
  },
  {
   "cell_type": "code",
   "execution_count": null,
   "metadata": {
    "scrolled": true
   },
   "outputs": [],
   "source": [
    "\n",
    "dfp.pcorr()"
   ]
  },
  {
   "cell_type": "code",
   "execution_count": null,
   "metadata": {},
   "outputs": [],
   "source": []
  },
  {
   "cell_type": "markdown",
   "metadata": {},
   "source": [
    "# Values column r is exactly similar to dfp.corr()"
   ]
  },
  {
   "cell_type": "code",
   "execution_count": null,
   "metadata": {},
   "outputs": [],
   "source": [
    "dfp.pairwise_corr(method='pearson')"
   ]
  },
  {
   "cell_type": "code",
   "execution_count": null,
   "metadata": {},
   "outputs": [],
   "source": []
  },
  {
   "cell_type": "markdown",
   "metadata": {},
   "source": [
    "# Comparison correlation Normal and Abnormal"
   ]
  },
  {
   "cell_type": "code",
   "execution_count": null,
   "metadata": {},
   "outputs": [],
   "source": [
    "def plotDfCompSnsBar(dfn,dfa):\n",
    "    fig,axes = plt.subplots(len(dfn.columns),2 , figsize=(20, 200))#start row=0&& col=0\n",
    "    l1=[i for i in range(0,len(dfn.columns))]\n",
    "    for (n,a, b,colNormName,colAnormName) in itertools.zip_longest\\\n",
    "        (np.arange(0,len(dfn.columns)),np.arange(0,len(dfa.columns)),\\\n",
    "         l1,dfn.columns,dfa.columns):\n",
    "        if n== None :\n",
    "            break\n",
    "        dfn.iloc[:,n].plot(kind='bar',ax=axes[b,0],color='g',grid=True)\n",
    "        dfa.iloc[:,a].plot(kind='bar',ax=axes[b,1],color='r',grid=True)\n",
    "        axes[b,0].legend([colNormName])\n",
    "        axes[b,1].legend([colAnormName])\n",
    "        \n",
    "        plt.tight_layout()\n",
    "    fig.tight_layout(h_pad=10)\n",
    "    plt.show()\n",
    "\n"
   ]
  },
  {
   "cell_type": "code",
   "execution_count": null,
   "metadata": {
    "scrolled": true
   },
   "outputs": [],
   "source": [
    "plotDfCompSnsBar(dfpNorm.iloc[:,1:].corr(),dfpAnorm.iloc[:,1:].corr())"
   ]
  },
  {
   "cell_type": "code",
   "execution_count": null,
   "metadata": {},
   "outputs": [],
   "source": []
  },
  {
   "cell_type": "markdown",
   "metadata": {},
   "source": [
    "# Mutual comparison partial correlation between each of two features"
   ]
  },
  {
   "cell_type": "code",
   "execution_count": null,
   "metadata": {
    "scrolled": true
   },
   "outputs": [],
   "source": [
    "corr = dfp.pcorr()\n",
    "corr.plot(subplots=True, figsize=(20,200),kind='bar',sharex =False,grid=True)\n"
   ]
  },
  {
   "cell_type": "code",
   "execution_count": null,
   "metadata": {},
   "outputs": [],
   "source": []
  },
  {
   "cell_type": "code",
   "execution_count": null,
   "metadata": {
    "scrolled": true
   },
   "outputs": [],
   "source": [
    "corr = dfpNorm.pcorr()\n",
    "corr.plot(subplots=True, figsize=(20,200),kind='bar',sharex =False,grid=True)\n"
   ]
  },
  {
   "cell_type": "code",
   "execution_count": null,
   "metadata": {},
   "outputs": [],
   "source": []
  },
  {
   "cell_type": "code",
   "execution_count": null,
   "metadata": {
    "scrolled": true
   },
   "outputs": [],
   "source": [
    "corr = dfpAnorm.pcorr()\n",
    "corr.plot(subplots=True, figsize=(20,200),kind='bar',sharex =False,grid=True)"
   ]
  },
  {
   "cell_type": "code",
   "execution_count": null,
   "metadata": {},
   "outputs": [],
   "source": []
  },
  {
   "cell_type": "markdown",
   "metadata": {},
   "source": [
    "# End of codes."
   ]
  },
  {
   "cell_type": "code",
   "execution_count": null,
   "metadata": {},
   "outputs": [],
   "source": []
  },
  {
   "cell_type": "code",
   "execution_count": null,
   "metadata": {},
   "outputs": [],
   "source": []
  },
  {
   "cell_type": "code",
   "execution_count": null,
   "metadata": {},
   "outputs": [],
   "source": []
  },
  {
   "cell_type": "code",
   "execution_count": null,
   "metadata": {},
   "outputs": [],
   "source": []
  },
  {
   "cell_type": "code",
   "execution_count": null,
   "metadata": {},
   "outputs": [],
   "source": [
    "# # Draw Plot\n",
    "# def plotDfPCorr(df):\n",
    "#     f1,ax = plt.subplots(len(df.columns),1 , figsize=(18, 200),sharex =False)\n",
    "#     for i in range(len(df.columns)):\n",
    "#         plot_pacf(df.iloc[:,i],ax=ax[i],zero=False,title=df.columns[i])\n",
    "#         ax[i].grid()\n",
    "#     plt.show()\n",
    "\n"
   ]
  },
  {
   "cell_type": "code",
   "execution_count": null,
   "metadata": {},
   "outputs": [],
   "source": [
    "# plotDfPCorr(dfp.pcorr())\n"
   ]
  },
  {
   "cell_type": "code",
   "execution_count": null,
   "metadata": {},
   "outputs": [],
   "source": []
  },
  {
   "cell_type": "code",
   "execution_count": null,
   "metadata": {},
   "outputs": [],
   "source": [
    "# plotDfPCorr(dfpNorm.iloc[:,1:-1].pcorr())\n"
   ]
  },
  {
   "cell_type": "code",
   "execution_count": null,
   "metadata": {},
   "outputs": [],
   "source": []
  },
  {
   "cell_type": "code",
   "execution_count": null,
   "metadata": {},
   "outputs": [],
   "source": [
    "# plotDfPCorr(dfpAnorm.iloc[:,1:-1].pcorr())"
   ]
  },
  {
   "cell_type": "code",
   "execution_count": null,
   "metadata": {},
   "outputs": [],
   "source": []
  },
  {
   "cell_type": "code",
   "execution_count": null,
   "metadata": {
    "pycharm": {
     "is_executing": true
    }
   },
   "outputs": [],
   "source": [
    "# def plotDfLegend(df,kind,bins,dfName=\"\",width=18,height=15):\n",
    "#     f = plt.figure()\n",
    "#     if kind==\"hist\":\n",
    "#         df.plot(kind=kind, ax=f.gca(),figsize=(width, height),bins=bins,grid=True)\n",
    "#     else:\n",
    "#         df.plot(kind=kind, ax=f.gca(),figsize=(width, height),grid=True)\n",
    "#     plt.legend(loc='center left', bbox_to_anchor=(1.0, 0.5))\n",
    "#     #plt.savefig(\"photos/distributions/\"+str(dfName)+\"_\"+str(df.name)+\".jpg\", dpi=300, format='jpg')\n",
    "#     plt.show()"
   ]
  },
  {
   "cell_type": "code",
   "execution_count": null,
   "metadata": {
    "pycharm": {
     "is_executing": true,
     "name": "#%%\n"
    },
    "scrolled": true
   },
   "outputs": [],
   "source": [
    "# [plotDfLegend(dfp.iloc[:,i],\"hist\",50,\"dfp\") for i in range(len(dfp.columns))]"
   ]
  },
  {
   "cell_type": "code",
   "execution_count": null,
   "metadata": {
    "pycharm": {
     "is_executing": true
    },
    "scrolled": true
   },
   "outputs": [],
   "source": [
    "# [plotDfLegend(dfpNorm.iloc[:,i],\"hist\",50,\"dfpNorm\") for i in range(len(dfpNorm.columns))]"
   ]
  },
  {
   "cell_type": "code",
   "execution_count": null,
   "metadata": {
    "scrolled": true
   },
   "outputs": [],
   "source": [
    "# [plotDfLegend(dfpAnorm.iloc[:,i],\"hist\",50,\"dfpAnorm\") for i in range(len(dfpAnorm.columns))]"
   ]
  },
  {
   "cell_type": "code",
   "execution_count": null,
   "metadata": {},
   "outputs": [],
   "source": []
  },
  {
   "cell_type": "code",
   "execution_count": null,
   "metadata": {},
   "outputs": [],
   "source": [
    "# l1=[0,1,2,3]*2\n",
    "# x1=[0,1,2,3,4,5,6]\n",
    "# li=np.repeat(x1,3)\n",
    "\n",
    "# # Draw Plot\n",
    "# def plotDfSnsDist(dfn,dfa,bins=20):\n",
    "#     f1,axes = plt.subplots(len(dfn.columns)-1,2 , figsize=(20, 20))#start row=0&& col=0\n",
    "#     l1=[i for i in range(0,len(dfn.columns))]\n",
    "#     for (n,a, b, cn,ca) in itertools.zip_longest\\  \n",
    "# (np.arange(1,len(dfasAnormUniq.columns)),li,[0,1,2]*7,['r','g','b']*7):\n",
    "#         if a== None :\n",
    "#             break\n",
    "#         sns.distplot(df.iloc[:,a],ax=axes[b,bb],color=c,label=df.columns[a],bins=bins)\n",
    "#         sns.despine(left=True)\n",
    "#         plt.setp(axes, xticks=[])\n",
    "#         plt.tight_layout()\n",
    "#     plt.show()"
   ]
  },
  {
   "cell_type": "code",
   "execution_count": null,
   "metadata": {},
   "outputs": [],
   "source": [
    "# # Draw Plot\n",
    "# def plotDfCompSnsDist(dfn,dfa,bins=20):\n",
    "#     f1,axes = plt.subplots(len(dfn.columns)-1,2 , figsize=(20, 20))#start row=0&& col=0\n",
    "#     l1=[i for i in range(0,len(dfn.columns))]\n",
    "#     for (n,a, b, cn,ca) in itertools.zip_longest\\\n",
    "#         (np.arange(1,len(dfn.columns)),np.arange(1,len(dfa.columns)),\\\n",
    "#          l1,['g']*int(len(dfn.columns)+1),['r']*int(len(dfn.columns)+1)):\n",
    "#         if n== None :\n",
    "#             break\n",
    "#         sns.distplot(dfn.iloc[:,n],ax=axes[b,0],color=cn,label=dfn.columns[n],bins=bins)\n",
    "#         sns.distplot(dfa.iloc[:,a],ax=axes[b,1],color=ca,label=dfa.columns[a],bins=bins)\n",
    "#         sns.despine(left=True)\n",
    "#         plt.setp(axes, xticks=[])\n",
    "#         plt.tight_layout()\n",
    "#     plt.show()"
   ]
  },
  {
   "cell_type": "code",
   "execution_count": null,
   "metadata": {
    "scrolled": false
   },
   "outputs": [],
   "source": [
    "# plotDfCompSnsDist(dfpNorm,dfpAnorm)"
   ]
  },
  {
   "cell_type": "code",
   "execution_count": null,
   "metadata": {},
   "outputs": [],
   "source": [
    "# l1=[0,1,2,3]*2\n",
    "# x1=[0,1,2,3,4,5,6]\n",
    "# li=np.repeat(x1,3)\n",
    "\n",
    "# # Draw Plot\n",
    "# def plotDfSnsScatter(df):\n",
    "#     f1,axes = plt.subplots(7,3 , figsize=(20, 20))#start row=0&& col=0\n",
    "#     for (a, b,bb, c) in itertools.zip_longest\\\n",
    "# (np.arange(1,len(df.columns)),li,[0,1,2]*7,['r','g','b']*7):\n",
    "#         if a== None :\n",
    "#             break\n",
    "#         sns.scatterplot(df.index,df.iloc[:,a],ax=axes[b,bb],color=c,label=df.columns[a])\n",
    "#         sns.despine(left=True)\n",
    "#         plt.setp(axes, xticks=[])\n",
    "#         plt.tight_layout()\n",
    "#     plt.show()"
   ]
  },
  {
   "cell_type": "code",
   "execution_count": null,
   "metadata": {},
   "outputs": [],
   "source": []
  },
  {
   "cell_type": "code",
   "execution_count": null,
   "metadata": {},
   "outputs": [],
   "source": [
    "# def plotDfCompSnsScatter(dfn,dfa):\n",
    "#     f1,axes = plt.subplots(len(dfn.columns)-1,2 , figsize=(20, 100))#start row=0&& col=0\n",
    "#     l1=[i for i in range(0,len(dfn.columns))]\n",
    "#     for (n,a, b, cn,ca) in itertools.zip_longest\\\n",
    "#         (np.arange(1,len(dfn.columns)),np.arange(1,len(dfa.columns)),\\\n",
    "#          l1,['g']*int(len(dfn.columns)+1),['r']*int(len(dfn.columns)+1)):\n",
    "#         if n== None :\n",
    "#             break\n",
    "#         sns.scatterplot(dfn.index,dfn.iloc[:,n],ax=axes[b,0],color=cn,label=dfn.columns[n])\n",
    "#         sns.scatterplot(dfa.index,dfa.iloc[:,a],ax=axes[b,1],color=ca,label=dfa.columns[a])\n",
    "#         sns.despine(left=True)\n",
    "#         plt.setp(axes, xticks=[])\n",
    "#         plt.tight_layout()\n",
    "#     plt.show()"
   ]
  },
  {
   "cell_type": "code",
   "execution_count": null,
   "metadata": {
    "scrolled": true
   },
   "outputs": [],
   "source": [
    "# plotDfCompSnsScatter(dfpNorm,dfpAnorm)"
   ]
  },
  {
   "cell_type": "code",
   "execution_count": null,
   "metadata": {},
   "outputs": [],
   "source": []
  },
  {
   "cell_type": "code",
   "execution_count": null,
   "metadata": {},
   "outputs": [],
   "source": []
  },
  {
   "cell_type": "code",
   "execution_count": null,
   "metadata": {},
   "outputs": [],
   "source": [
    "# # fig, ax = plt.subplots(figsize=(10,5))\n",
    "# # ax.matshow(dfn.corr())\n",
    "# plt.figure(figsize=(40,7))\n",
    "# plt.matshow(dfas.corr(), fignum=1)\n",
    "# #plt.matshow(dfn.corr())\n",
    "# plt.xticks(range(len(dfas.columns)), dfas.columns,rotation=90)\n",
    "# plt.yticks(range(len(dfas.columns)), dfas.columns)\n",
    "# plt.colorbar()\n",
    "# plt.show()"
   ]
  },
  {
   "cell_type": "code",
   "execution_count": null,
   "metadata": {},
   "outputs": [],
   "source": []
  },
  {
   "cell_type": "code",
   "execution_count": null,
   "metadata": {},
   "outputs": [],
   "source": [
    "# sns.pairplot(dfasAnorm)\n",
    "# plt.show()"
   ]
  },
  {
   "cell_type": "code",
   "execution_count": null,
   "metadata": {
    "scrolled": true
   },
   "outputs": [],
   "source": [
    "# corr = dfp.corr()\n",
    "# corr.plot(subplots=True, figsize=(20,200),kind='bar',sharex =False,grid=True)\n"
   ]
  },
  {
   "cell_type": "code",
   "execution_count": null,
   "metadata": {
    "scrolled": false
   },
   "outputs": [],
   "source": [
    "# corr = dfpNorm.corr()\n",
    "# corr.plot(subplots=True, figsize=(20,200),kind='bar',sharex =False,grid=True)"
   ]
  },
  {
   "cell_type": "code",
   "execution_count": null,
   "metadata": {
    "scrolled": false
   },
   "outputs": [],
   "source": [
    "# corr = dfpAnorm.corr()\n",
    "# corr.plot(subplots=True, figsize=(20,200),kind='bar',sharex =False,grid=True)"
   ]
  },
  {
   "cell_type": "code",
   "execution_count": null,
   "metadata": {},
   "outputs": [],
   "source": [
    "# def plotDfCompSnsScatter(dfn,dfa):\n",
    "#     f1,axes = plt.subplots(len(dfn.columns)-1,2 , figsize=(20, 100))#start row=0&& col=0\n",
    "#     l1=[i for i in range(0,len(dfn.columns))]\n",
    "#     for (n,a, b, cn,ca) in itertools.zip_longest\\\n",
    "#         (np.arange(1,len(dfn.columns)),np.arange(1,len(dfa.columns)),\\\n",
    "#          l1,['g']*int(len(dfn.columns)+1),['r']*int(len(dfn.columns)+1)):\n",
    "#         if n== None :\n",
    "#             break\n",
    "#         sns.scatterplot(dfn.index,dfn.iloc[:,n],ax=axes[b,0],color=cn,label=dfn.columns[n])\n",
    "#         sns.scatterplot(dfa.index,dfa.iloc[:,a],ax=axes[b,1],color=ca,label=dfa.columns[a])\n",
    "#         sns.despine(left=True)\n",
    "#         plt.setp(axes, xticks=[])\n",
    "#         plt.tight_layout()\n",
    "#     plt.show()"
   ]
  },
  {
   "cell_type": "code",
   "execution_count": null,
   "metadata": {},
   "outputs": [],
   "source": [
    "# dfpNorm.columns"
   ]
  },
  {
   "cell_type": "code",
   "execution_count": null,
   "metadata": {},
   "outputs": [],
   "source": []
  },
  {
   "cell_type": "code",
   "execution_count": null,
   "metadata": {
    "scrolled": false
   },
   "outputs": [],
   "source": []
  },
  {
   "cell_type": "code",
   "execution_count": null,
   "metadata": {},
   "outputs": [],
   "source": [
    "# # Draw Plot\n",
    "# l1=[i for i in range(0,19)]\n",
    "# def plotDfCompSnsLine(dfn,dfa):\n",
    "#     fig,axes = plt.subplots(18,2 , figsize=(20, 100))#start row=0&& col=0\n",
    "   \n",
    "#     for (n,a, b, cn,ca,colNormName,colAnormName) in itertools.zip_longest\\\n",
    "#         (np.arange(1,len(dfn.columns)),np.arange(1,len(dfa.columns)),\\\n",
    "#          l1,['g']*20,['r']*20,dfn.columns,dfa.columns):\n",
    "#         if n== None :\n",
    "#             break\n",
    "# #         dfn.iloc[:,n].plot(kind='line',ax=axes[b,0],color='g')\n",
    "# #         dfa.iloc[:,a].plot(kind='line',ax=axes[b,1],color='r')\n",
    "#         axes[b,0].plot(dfn.iloc[:,n] ,color='g')\n",
    "#         axes[b,1].plot(dfa.iloc[:,a] ,color='r')\n",
    "#         axes[b,0].legend([colNormName])\n",
    "#         axes[b,1].legend([colAnormName])\n",
    "#         axes[b,0].grid(True)\n",
    "#         axes[b,1].grid(True)\n",
    "#         plt.tight_layout()\n",
    "        \n",
    "#     fig.tight_layout(h_pad=10)\n",
    "#     plt.show()"
   ]
  },
  {
   "cell_type": "code",
   "execution_count": null,
   "metadata": {
    "scrolled": true
   },
   "outputs": [],
   "source": [
    "# plotDfCompSnsLine(dfasNormUniq[:500],dfasAnormUniq[:500])"
   ]
  },
  {
   "cell_type": "code",
   "execution_count": null,
   "metadata": {},
   "outputs": [],
   "source": []
  },
  {
   "cell_type": "code",
   "execution_count": null,
   "metadata": {},
   "outputs": [],
   "source": []
  },
  {
   "cell_type": "code",
   "execution_count": null,
   "metadata": {},
   "outputs": [],
   "source": []
  },
  {
   "cell_type": "code",
   "execution_count": null,
   "metadata": {},
   "outputs": [],
   "source": [
    "# def color_negative_red(val):\n",
    "#     \"\"\"\n",
    "#     Takes a scalar and returns a string with\n",
    "#     the css property `'color: red'` for negative\n",
    "#     strings, black otherwise.\n",
    "#     \"\"\"\n",
    "# #     color = 'red' if val < .7 else 'black'\n",
    "# #     color2= 'green' if val >= .7 else 'brown'\n",
    "#     color =''\n",
    "#     if val < .7:\n",
    "#         color = 'red' \n",
    "        \n",
    "#     elif val >= .7:\n",
    "#         color ='green'\n",
    "        \n",
    "#     return 'color: %s' % color\n",
    "\n",
    "# def highlight_max(s):\n",
    "#     '''\n",
    "#     highlight the maximum in a Series yellow.\n",
    "#     '''\n",
    "#     is_min = s == s.min()\n",
    "#     return ['background-color: yellow' if v else '' for v in is_min]\n",
    "\n",
    "# # s = df.style.applymap(color_negative_red)\n",
    "# # df.style.apply(highlight_max)\n",
    "# # df.style.\\\n",
    "# #     applymap(color_negative_red).\\\n",
    "# #     apply(highlight_max)"
   ]
  },
  {
   "cell_type": "code",
   "execution_count": null,
   "metadata": {},
   "outputs": [],
   "source": [
    "# corr=dfpNorm.corr()\n",
    "# corr.style.applymap(color_negative_red).apply(highlight_max)"
   ]
  },
  {
   "cell_type": "code",
   "execution_count": null,
   "metadata": {},
   "outputs": [],
   "source": []
  },
  {
   "cell_type": "code",
   "execution_count": null,
   "metadata": {},
   "outputs": [],
   "source": [
    "# corr=dfpAnorm.corr()\n",
    "# corr.style.applymap(color_negative_red).apply(highlight_max)"
   ]
  },
  {
   "cell_type": "code",
   "execution_count": null,
   "metadata": {},
   "outputs": [],
   "source": [
    "# fig, ax = plt.subplots(figsize=(20,7)) \n",
    "# mask = np.zeros_like(dfasAnorm.corr())\n",
    "# mask[np.triu_indices_from(mask)] = 1\n",
    "# sns.heatmap(dfasAnorm.corr(), mask= mask, ax= ax, annot= True)"
   ]
  },
  {
   "cell_type": "code",
   "execution_count": null,
   "metadata": {},
   "outputs": [],
   "source": []
  },
  {
   "cell_type": "code",
   "execution_count": null,
   "metadata": {},
   "outputs": [],
   "source": [
    "# import plotly.offline as py\n",
    "# import plotly.graph_objs as go\n",
    "# plotly.offline.init_notebook_mode()\n",
    "\n",
    "# py.iplot([{\n",
    "#     'x': dfasNormUniq.index[:100],\n",
    "#     'y': dfasNormUniq[col][:100],\n",
    "#     'name': col\n",
    "# }  for col in dfasNormUniq.columns])"
   ]
  },
  {
   "cell_type": "code",
   "execution_count": null,
   "metadata": {},
   "outputs": [],
   "source": [
    "# import plotly.offline as py\n",
    "# import plotly.graph_objs as go\n",
    "# plotly.offline.init_notebook_mode()\n",
    "\n",
    "# py.iplot([{\n",
    "#     'x': dfasAnorm.index[:100],\n",
    "#     'y': dfasAnorm[col][:100],\n",
    "#     'name': col\n",
    "# }  for col in dfasAnorm.columns])"
   ]
  },
  {
   "cell_type": "code",
   "execution_count": null,
   "metadata": {
    "pycharm": {
     "name": "#%%\n"
    },
    "scrolled": true
   },
   "outputs": [],
   "source": [
    "# import plotly.graph_objects as go\n",
    "# #[:100]\n",
    "# #.index\n",
    "# #['Timestamp']\n",
    "# for i,j in zip(dfas0NormCycle1.columns,dfas0AnormCycle1.columns):\n",
    "#     fig = go.Figure()\n",
    "#     fig.add_trace(go.Scatter(x=dfas0NormCycle1.index , y=dfas0NormCycle1[i] ,name='dfasNorm',mode='lines'))\n",
    "#     fig.add_trace(go.Scatter(x=dfas0AnormCycle1.index , y=dfas0AnormCycle1[j] ,name='dfasAnorm',mode='lines'))\n",
    "#     fig.update_layout(title=f\"{i}\")\n",
    "#     fig.show()\n",
    "#     #fig.write_html(f\"{i}_linePlot_uniq.html\")"
   ]
  },
  {
   "cell_type": "code",
   "execution_count": null,
   "metadata": {},
   "outputs": [],
   "source": []
  },
  {
   "cell_type": "code",
   "execution_count": null,
   "metadata": {
    "pycharm": {
     "is_executing": true
    }
   },
   "outputs": [],
   "source": [
    "# dfEfList=[dfao,dfas]\n",
    "# # Additive time series:\n",
    "# # Value = Base Level + Trend + Seasonality + Error\n",
    "\n",
    "# # Multiplicative Time Series:\n",
    "# # Value = Base Level x Trend x Seasonality x Error\n",
    "\n",
    "# from statsmodels.tsa.seasonal import seasonal_decompose\n",
    "# for f in dfEfList:\n",
    "    \n",
    "#     for i in f.columns:\n",
    "    \n",
    "#         decomposition = seasonal_decompose(dfao[i][:100], model=\"additive\", freq=30)#model='multiplicative'\n",
    "    \n",
    "        \n",
    "#         fig, ax = plt.subplots(nrows=1, ncols=2, figsize=(18,3), constrained_layout=True)\n",
    "#         fig.subplots_adjust(wspace=0.15)\n",
    "#         ax1= plt.subplot(121)\n",
    "#         ax1.plot(decomposition.trend)\n",
    "#         ax1.set_title(\"Trend--> \"+i+\"\")\n",
    "#         ax2 = plt.subplot(122)\n",
    "#         ax2.plot(decomposition.seasonal)\n",
    "#         ax2.set_title(\"Seasonality--> \"+i+\"\")\n",
    "    \n",
    "\n",
    "# plt.tight_layout()\n",
    "# plt.show()\n",
    "\n"
   ]
  },
  {
   "cell_type": "code",
   "execution_count": null,
   "metadata": {
    "pycharm": {
     "is_executing": true
    }
   },
   "outputs": [],
   "source": [
    "# from statsmodels.tsa.seasonal import seasonal_decompose\n",
    "# result = seasonal_decompose(dfao.iloc[:1000,1], model=\"additive\", freq=30)\n",
    "# result.plot()\n",
    "# plt.show()\n"
   ]
  },
  {
   "cell_type": "code",
   "execution_count": null,
   "metadata": {
    "pycharm": {
     "is_executing": true
    }
   },
   "outputs": [],
   "source": [
    "# # import matplotlib.dates as mdates\n",
    "\n",
    "# fig, ax = plt.subplots(figsize=(10,7))\n",
    "# plt.subplots_adjust(hspace=0.5)\n",
    "\n",
    "# ax0 = plt.subplot(411)\n",
    "# plt.plot(result.observed)\n",
    "# ax0.set_title('obs')\n",
    "\n",
    "# ax1 = plt.subplot(412)\n",
    "# plt.plot(result.trend)\n",
    "# ax1.set_title('trend')\n",
    "\n",
    "# ax2 = plt.subplot(413)\n",
    "# plt.plot(result.seasonal)\n",
    "# ax2.set_title('seasonality')\n",
    "\n",
    "# ax3 = plt.subplot(414)\n",
    "# plt.plot(result.resid)\n",
    "# ax3.set_title('residual')\n",
    "# fig.autofmt_xdate()"
   ]
  },
  {
   "cell_type": "code",
   "execution_count": null,
   "metadata": {
    "pycharm": {
     "is_executing": true
    }
   },
   "outputs": [],
   "source": [
    "# viridis(n = 8,option = \"B\")\n",
    "# colorRampPalette(vir)\n",
    "\n",
    "# #Putting it together\n",
    "# corrplot(cor(dfao,method = \"color\",type = \"lower\",\n",
    "#           sig.level = 0.01, insig = \"blank\",addCoef.col = \"green\",col = vir(200))"
   ]
  },
  {
   "cell_type": "code",
   "execution_count": null,
   "metadata": {},
   "outputs": [],
   "source": [
    "\n",
    "# data = pg.read_dataset('pairwise_corr').iloc[:, 1:]\n",
    "# pg.pairwise_corr(data, method='spearman', tail='one-sided', padjust='bonf').round(3)"
   ]
  },
  {
   "cell_type": "code",
   "execution_count": null,
   "metadata": {},
   "outputs": [],
   "source": [
    "# data.pcorr()"
   ]
  },
  {
   "cell_type": "code",
   "execution_count": null,
   "metadata": {},
   "outputs": [],
   "source": [
    "# data.pairwise_corr()"
   ]
  },
  {
   "cell_type": "code",
   "execution_count": null,
   "metadata": {},
   "outputs": [],
   "source": []
  },
  {
   "cell_type": "code",
   "execution_count": null,
   "metadata": {
    "scrolled": true
   },
   "outputs": [],
   "source": [
    "pg.pcorr(dfp)# deafult is Pearson "
   ]
  },
  {
   "cell_type": "code",
   "execution_count": null,
   "metadata": {},
   "outputs": [],
   "source": []
  },
  {
   "cell_type": "code",
   "execution_count": null,
   "metadata": {},
   "outputs": [],
   "source": [
    "pg.pairwise_corr(dfp, method='pearson')"
   ]
  },
  {
   "cell_type": "code",
   "execution_count": null,
   "metadata": {
    "scrolled": true
   },
   "outputs": [],
   "source": [
    "pg.partial_corr(dfp,x='x1', y='x2', method='pearson')"
   ]
  },
  {
   "cell_type": "code",
   "execution_count": null,
   "metadata": {},
   "outputs": [],
   "source": []
  },
  {
   "cell_type": "code",
   "execution_count": null,
   "metadata": {},
   "outputs": [],
   "source": [
    "# pg.pairwise_corr(dfp)"
   ]
  },
  {
   "cell_type": "code",
   "execution_count": null,
   "metadata": {
    "scrolled": true
   },
   "outputs": [],
   "source": []
  },
  {
   "cell_type": "code",
   "execution_count": null,
   "metadata": {},
   "outputs": [],
   "source": []
  },
  {
   "cell_type": "code",
   "execution_count": null,
   "metadata": {},
   "outputs": [],
   "source": [
    "# dfp.pairwise_corr(covar=dfp.columns,method='pearson')"
   ]
  },
  {
   "cell_type": "code",
   "execution_count": null,
   "metadata": {},
   "outputs": [],
   "source": [
    "# dfp.partial_corr(x='x1', y='x2', method='pearson')"
   ]
  },
  {
   "cell_type": "code",
   "execution_count": null,
   "metadata": {},
   "outputs": [],
   "source": [
    "# dfp.partial_corr(x='x1', y='x2', covar='x3',method='pearson')"
   ]
  },
  {
   "cell_type": "code",
   "execution_count": null,
   "metadata": {},
   "outputs": [],
   "source": []
  },
  {
   "cell_type": "code",
   "execution_count": null,
   "metadata": {
    "scrolled": true
   },
   "outputs": [],
   "source": [
    "# #correlation matrix with the r-values on the upper triangle and the p-values on the lower triangle\n",
    "# dfp.rcorr(method='spearman', stars=False, padjust='holm', decimals=2)\n"
   ]
  },
  {
   "cell_type": "code",
   "execution_count": null,
   "metadata": {},
   "outputs": [],
   "source": []
  },
  {
   "cell_type": "code",
   "execution_count": null,
   "metadata": {},
   "outputs": [],
   "source": []
  },
  {
   "cell_type": "code",
   "execution_count": null,
   "metadata": {},
   "outputs": [],
   "source": [
    "# sns.scatterplot(dfpNorm.index,dfpNorm,color='g' )\n",
    "# sns.scatterplot(dfpAnorm.index,dfpAnorm,color='r' )\n",
    "# sns.despine(left=True)\n",
    "\n",
    "# plt.tight_layout()\n",
    "# plt.show()"
   ]
  },
  {
   "cell_type": "code",
   "execution_count": null,
   "metadata": {},
   "outputs": [],
   "source": [
    "# dfp0Norm.columns"
   ]
  },
  {
   "cell_type": "code",
   "execution_count": null,
   "metadata": {},
   "outputs": [],
   "source": []
  },
  {
   "cell_type": "code",
   "execution_count": null,
   "metadata": {
    "scrolled": false
   },
   "outputs": [],
   "source": [
    "# sns.set(rc={'figure.figsize':(10,7)})\n",
    "# for n,a in zip(dfp0Norm.columns[2:-1],dfp0Anorm.columns[2:-1]):\n",
    "#     sns.scatterplot(x=dfp0Norm.index  ,y=dfp0Norm[n] ,color='g',)\n",
    "#     sns.scatterplot(x=dfp0Anorm.index ,y=dfp0Anorm[a] ,color='r')\n",
    "#     #sns.despine(left=True)\n",
    "#     plt.xticks([])\n",
    "#     plt.yticks([])\n",
    "#     plt.tight_layout()\n",
    "# plt.show()"
   ]
  },
  {
   "cell_type": "code",
   "execution_count": null,
   "metadata": {},
   "outputs": [],
   "source": [
    "# import itertools\n",
    "# data  = list(itertools.chain(*data))\n",
    "# df = pd.DataFrame.from_records(data)"
   ]
  }
 ],
 "metadata": {
  "hide_input": false,
  "kernelspec": {
   "display_name": "Python 3",
   "language": "python",
   "name": "python3"
  },
  "language_info": {
   "codemirror_mode": {
    "name": "ipython",
    "version": 3
   },
   "file_extension": ".py",
   "mimetype": "text/x-python",
   "name": "python",
   "nbconvert_exporter": "python",
   "pygments_lexer": "ipython3",
   "version": "3.7.4"
  },
  "varInspector": {
   "cols": {
    "lenName": 16,
    "lenType": 16,
    "lenVar": 40
   },
   "kernels_config": {
    "python": {
     "delete_cmd_postfix": "",
     "delete_cmd_prefix": "del ",
     "library": "var_list.py",
     "varRefreshCmd": "print(var_dic_list())"
    },
    "r": {
     "delete_cmd_postfix": ") ",
     "delete_cmd_prefix": "rm(",
     "library": "var_list.r",
     "varRefreshCmd": "cat(var_dic_list()) "
    }
   },
   "oldHeight": 122.54499999999999,
   "position": {
    "height": "40px",
    "left": "1126.36px",
    "right": "20px",
    "top": "120px",
    "width": "250px"
   },
   "types_to_exclude": [
    "module",
    "function",
    "builtin_function_or_method",
    "instance",
    "_Feature"
   ],
   "varInspector_section_display": "none",
   "window_display": false
  }
 },
 "nbformat": 4,
 "nbformat_minor": 1
}

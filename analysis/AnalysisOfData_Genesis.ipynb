{
 "cells": [
  {
   "cell_type": "code",
   "execution_count": null,
   "metadata": {},
   "outputs": [],
   "source": [
    "import pandas as pd\n",
    "import numpy as np\n",
    "import seaborn as sns\n",
    "import matplotlib.pyplot as plt\n",
    "import plotly.express as px\n",
    "import plotly.graph_objs as pltly\n",
    "from plotly.offline import iplot\n",
    "import plotly.graph_objects as go\n",
    "import plotly.figure_factory as ff\n",
    "from plotly.subplots import make_subplots\n",
    "import plotly\n",
    "import pathlib\n",
    "pd.options.display.max_rows = None\n",
    "pd.set_option('display.max_columns', 500)\n",
    "from dateutil.parser import parse\n",
    "import matplotlib as mpl\n",
    "from datetime import datetime\n",
    "from statsmodels.graphics.tsaplots import plot_acf\n",
    "from statsmodels.graphics.tsaplots import plot_pacf\n",
    "import statsmodels\n",
    "#test"
   ]
  },
  {
   "cell_type": "code",
   "execution_count": null,
   "metadata": {
    "pycharm": {
     "name": "#%%\n"
    }
   },
   "outputs": [],
   "source": [
    "dfa = pd.read_csv(\"data/Genesis_AnomalyLabels.csv\")\n",
    "dfs = pd.read_csv(\"data/Genesis_StateMachineLabel.csv\")\n",
    "dfn = pd.read_csv(\"data/Genesis_normal.csv\")\n",
    "dfl = pd.read_csv(\"data/Genesis_lineardrive.csv\")\n",
    "dfp = pd.read_csv(\"data/Genesis_pressure.csv\")"
   ]
  },
  {
   "cell_type": "code",
   "execution_count": null,
   "metadata": {},
   "outputs": [],
   "source": [
    "print(dfa.shape)\n",
    "print(dfs.shape)\n",
    "print(dfn.shape)\n",
    "print(dfl.shape)\n",
    "print(dfp.shape)"
   ]
  },
  {
   "cell_type": "code",
   "execution_count": null,
   "metadata": {},
   "outputs": [],
   "source": [
    "dfa.info()"
   ]
  },
  {
   "cell_type": "code",
   "execution_count": null,
   "metadata": {},
   "outputs": [],
   "source": [
    "dfa0 = pd.read_csv(\"data/Genesis_AnomalyLabels.csv\")\n",
    "dfs0 = pd.read_csv(\"data/Genesis_StateMachineLabel.csv\")\n",
    "dfn0 = pd.read_csv(\"data/Genesis_normal.csv\")\n",
    "dfl0 = pd.read_csv(\"data/Genesis_lineardrive.csv\")\n",
    "dfp0 = pd.read_csv(\"data/Genesis_pressure.csv\")"
   ]
  },
  {
   "cell_type": "code",
   "execution_count": null,
   "metadata": {},
   "outputs": [],
   "source": [
    "dfa[\"Timestamp\"]=[datetime.fromtimestamp(x).strftime('%Y-%m-%d %H:%M:%S.%f')[:-3] for x in dfa[\"Timestamp\"]]\n",
    "\n",
    "dfs[\"Timestamp\"]=[datetime.fromtimestamp(x).strftime('%Y-%m-%d %H:%M:%S.%f')[:-3] for x in dfs[\"Timestamp\"]]"
   ]
  },
  {
   "cell_type": "code",
   "execution_count": null,
   "metadata": {},
   "outputs": [],
   "source": [
    "dfn[\"Timestamp\"]=pd.to_datetime(dfn[\"Timestamp\"], unit='ms')\n",
    "dfl[\"Timestamp\"]=pd.to_datetime(dfl[\"Timestamp\"], unit='ms')\n",
    "dfp[\"Timestamp\"]=pd.to_datetime(dfp[\"Timestamp\"], unit='ms')\n",
    "\n",
    "dfn[\"NVL_Recv_Storage.GL_X_TimeSlideIn\"]=[datetime.fromtimestamp(x).strftime('%Y-%m-%d %H:%M:%S.%f')[:-3] for x in dfn[\"NVL_Recv_Storage.GL_X_TimeSlideIn\"]]\n",
    "dfn[\"NVL_Recv_Storage.GL_X_TimeSlideOut\"]=[datetime.fromtimestamp(x).strftime('%Y-%m-%d %H:%M:%S.%f')[:-3] for x in dfn[\"NVL_Recv_Storage.GL_X_TimeSlideOut\"]]\n",
    "\n",
    "dfl[\"NVL_Recv_Storage.GL_X_TimeSlideIn\"]=[datetime.fromtimestamp(x).strftime('%Y-%m-%d %H:%M:%S.%f')[:-3] for x in dfl[\"NVL_Recv_Storage.GL_X_TimeSlideIn\"]]\n",
    "dfl[\"NVL_Recv_Storage.GL_X_TimeSlideOut\"]=[datetime.fromtimestamp(x).strftime('%Y-%m-%d %H:%M:%S.%f')[:-3] for x in dfl[\"NVL_Recv_Storage.GL_X_TimeSlideOut\"]]\n",
    "\n",
    "dfp[\"NVL_Recv_Storage.GL_X_TimeSlideIn\"]=[datetime.fromtimestamp(x).strftime('%Y-%m-%d %H:%M:%S.%f')[:-3] for x in dfp[\"NVL_Recv_Storage.GL_X_TimeSlideIn\"]]\n",
    "dfp[\"NVL_Recv_Storage.GL_X_TimeSlideOut\"]=[datetime.fromtimestamp(x).strftime('%Y-%m-%d %H:%M:%S.%f')[:-3] for x in dfp[\"NVL_Recv_Storage.GL_X_TimeSlideOut\"]]\n"
   ]
  },
  {
   "cell_type": "code",
   "execution_count": null,
   "metadata": {},
   "outputs": [],
   "source": [
    "dfa=dfa.reset_index()\n",
    "dfs=dfs.reset_index()\n",
    "dfn=dfn.reset_index()\n",
    "dfl=dfl.reset_index()\n",
    "dfp=dfp.reset_index()\n",
    "\n",
    "dfa.index=dfa[\"Timestamp\"]\n",
    "dfs.index=dfs[\"Timestamp\"]\n",
    "dfn.index=dfn[\"Timestamp\"]\n",
    "dfl.index=dfl[\"Timestamp\"]\n",
    "dfp.index=dfp[\"Timestamp\"]"
   ]
  },
  {
   "cell_type": "code",
   "execution_count": null,
   "metadata": {},
   "outputs": [],
   "source": [
    "dfa.drop(['Timestamp','index'], axis=1, inplace=True)\n",
    "dfs.drop(['Timestamp','index'], axis=1, inplace=True)\n",
    "dfn.drop(['Timestamp','index'], axis=1, inplace=True)\n",
    "dfl.drop(['Timestamp','index'], axis=1, inplace=True)\n",
    "dfp.drop(['Timestamp','index'], axis=1, inplace=True)"
   ]
  },
  {
   "cell_type": "code",
   "execution_count": null,
   "metadata": {
    "pycharm": {
     "is_executing": true
    }
   },
   "outputs": [],
   "source": [
    "print(\"dfa:\")\n",
    "pd.DataFrame(dfa.describe().transpose()).iloc[:,[1,2,3,7]]"
   ]
  },
  {
   "cell_type": "code",
   "execution_count": null,
   "metadata": {},
   "outputs": [],
   "source": [
    "dfa[\"Label\"].value_counts()"
   ]
  },
  {
   "cell_type": "code",
   "execution_count": null,
   "metadata": {
    "pycharm": {
     "is_executing": true
    }
   },
   "outputs": [],
   "source": []
  },
  {
   "cell_type": "code",
   "execution_count": null,
   "metadata": {
    "pycharm": {
     "is_executing": true
    }
   },
   "outputs": [],
   "source": [
    "print(f\"dfs:\")\n",
    "pd.DataFrame(dfs.describe().transpose()).iloc[:,[1,2,3,7]]"
   ]
  },
  {
   "cell_type": "code",
   "execution_count": null,
   "metadata": {
    "pycharm": {
     "is_executing": true
    }
   },
   "outputs": [],
   "source": [
    "print(f\"dfn:\")\n",
    "pd.DataFrame(dfn.describe().transpose()).iloc[:,[1,2,3,7]]"
   ]
  },
  {
   "cell_type": "code",
   "execution_count": null,
   "metadata": {
    "pycharm": {
     "is_executing": true
    }
   },
   "outputs": [],
   "source": [
    "print(f\"dfl:\")\n",
    "pd.DataFrame(dfl.describe().transpose()).iloc[:,[1,2,3,7]]"
   ]
  },
  {
   "cell_type": "code",
   "execution_count": null,
   "metadata": {
    "pycharm": {
     "is_executing": true,
     "name": "#%%\n"
    }
   },
   "outputs": [],
   "source": [
    "print(f\"dfp:\")\n",
    "pd.DataFrame(dfp.describe().transpose()).iloc[:,[1,2,3,7]]\n"
   ]
  },
  {
   "cell_type": "code",
   "execution_count": null,
   "metadata": {
    "pycharm": {
     "is_executing": true,
     "name": "#%%\n"
    }
   },
   "outputs": [],
   "source": [
    "print(dfa.index.min(),dfa.index.max())\n",
    "print(dfs.index.min(),dfs.index.max())\n",
    "print(dfn.index.min(),dfn.index.max())\n",
    "print(dfl.index.min(),dfl.index.max())\n",
    "print(dfp.index.min(),dfp.index.max())\n",
    "\n",
    "print(\"NVL_Recv_Storage.GL_X_TimeSlideIn\")\n",
    "print(dfn.iloc[:,21].min(),dfn.iloc[:,21].max())\n",
    "print(dfl.iloc[:,21].min(),dfl.iloc[:,21].max())\n",
    "print(dfp.iloc[:,21].min(),dfp.iloc[:,21].max())\n",
    "\n",
    "print(\"NVL_Recv_Storage.GL_X_TimeSlideOut\")\n",
    "print(dfn.iloc[:,22].min(),dfn.iloc[:,22].max())\n",
    "print(dfl.iloc[:,22].min(),dfl.iloc[:,22].max())\n",
    "print(dfp.iloc[:,22].min(),dfp.iloc[:,22].max())"
   ]
  },
  {
   "cell_type": "code",
   "execution_count": null,
   "metadata": {
    "pycharm": {
     "is_executing": true
    }
   },
   "outputs": [],
   "source": []
  },
  {
   "cell_type": "code",
   "execution_count": null,
   "metadata": {
    "pycharm": {
     "is_executing": true,
     "name": "#%%\n"
    }
   },
   "outputs": [],
   "source": [
    "print(\"dfa\")\n",
    "dfaEf=dfa.iloc[:,0:6]\n",
    "dfaEfNorm=dfaEf[dfaEf[\"Label\"]==0]\n",
    "dfaEfAnorm=dfaEf[dfaEf[\"Label\"]!=0]\n",
    "dfa.iloc[0:5,0:6]"
   ]
  },
  {
   "cell_type": "code",
   "execution_count": null,
   "metadata": {
    "pycharm": {
     "is_executing": true
    }
   },
   "outputs": [],
   "source": [
    "dfa.loc[dfa[\"Label\"]!=0]#,\"Label\":\"MotorData.IsForce\"]"
   ]
  },
  {
   "cell_type": "code",
   "execution_count": null,
   "metadata": {
    "pycharm": {
     "is_executing": true,
     "name": "#%%\n"
    }
   },
   "outputs": [],
   "source": [
    "print(\"dfs\")\n",
    "dfsEf=dfs.iloc[:,0:6]\n",
    "dfs.iloc[0:5,0:6]"
   ]
  },
  {
   "cell_type": "code",
   "execution_count": null,
   "metadata": {
    "pycharm": {
     "is_executing": true
    }
   },
   "outputs": [],
   "source": [
    "print(\"dfn\")\n",
    "dfn[:5]"
   ]
  },
  {
   "cell_type": "code",
   "execution_count": null,
   "metadata": {
    "pycharm": {
     "is_executing": true,
     "name": "#%%\n"
    }
   },
   "outputs": [],
   "source": [
    "print(\"dfn\")\n",
    "dfnEf=dfn.iloc[:, np.r_[0:4,8:12]]\n",
    "dfn.iloc[0:5, np.r_[0:4,8:12]]"
   ]
  },
  {
   "cell_type": "code",
   "execution_count": null,
   "metadata": {
    "pycharm": {
     "is_executing": true
    }
   },
   "outputs": [],
   "source": [
    "print(\"dfl\")\n",
    "dfl[:5]"
   ]
  },
  {
   "cell_type": "code",
   "execution_count": null,
   "metadata": {
    "pycharm": {
     "is_executing": true,
     "name": "#%%\n"
    }
   },
   "outputs": [],
   "source": [
    "print(\"dfl\")\n",
    "dflEf=dfl.iloc[:, np.r_[0:4,8:12]]\n",
    "dfl.iloc[0:5, np.r_[0:4,8:12]]\n"
   ]
  },
  {
   "cell_type": "code",
   "execution_count": null,
   "metadata": {
    "pycharm": {
     "is_executing": true
    }
   },
   "outputs": [],
   "source": [
    "print(\"dfp\")\n",
    "dfp[:5]"
   ]
  },
  {
   "cell_type": "code",
   "execution_count": null,
   "metadata": {
    "pycharm": {
     "is_executing": true,
     "name": "#%%\n"
    }
   },
   "outputs": [],
   "source": [
    "print(\"dfp\")\n",
    "dfpEf=dfp.iloc[:, np.r_[0:4,8:12]]\n",
    "dfp.iloc[0:5, np.r_[0:4,8:12]]"
   ]
  },
  {
   "cell_type": "code",
   "execution_count": null,
   "metadata": {
    "pycharm": {
     "is_executing": true,
     "name": "#%%\n"
    }
   },
   "outputs": [],
   "source": [
    "# Draw Plot\n",
    "def plot_df(df,x,y, title=\"\", xlabel='Value',ylabel='Value', dpi=100):\n",
    "    plt.figure(figsize=(16,10), dpi=dpi)\n",
    "    plt.plot(df,x,y, color='tab:red')\n",
    "    plt.gca().set(title=title, xlabel=xlabel, ylabel=ylabel)\n",
    "    plt.show()"
   ]
  },
  {
   "cell_type": "code",
   "execution_count": null,
   "metadata": {
    "pycharm": {
     "is_executing": true
    }
   },
   "outputs": [],
   "source": [
    "dfa.columns"
   ]
  },
  {
   "cell_type": "code",
   "execution_count": null,
   "metadata": {
    "pycharm": {
     "is_executing": true,
     "name": "#%%\n"
    }
   },
   "outputs": [],
   "source": [
    "dfa.plot(subplots=True, figsize=(20,15))#,kind='hist',bins=50)"
   ]
  },
  {
   "cell_type": "code",
   "execution_count": null,
   "metadata": {
    "pycharm": {
     "is_executing": true
    }
   },
   "outputs": [],
   "source": [
    "dfa.loc[(dfa[\"Label\"]==0)].plot(subplots=True, figsize=(20,15),legend=\"button left\")"
   ]
  },
  {
   "cell_type": "code",
   "execution_count": null,
   "metadata": {
    "pycharm": {
     "is_executing": true
    }
   },
   "outputs": [],
   "source": [
    "dfaNorm=dfa.loc[(dfa[\"Label\"]==0)]\n",
    "dfaAnorm=dfa.loc[(dfa[\"Label\"]!=0)]\n",
    "\n",
    "dfa.loc[(dfa[\"Label\"]!=0)].plot(subplots=True, figsize=(20,15),legend=\"button left\")"
   ]
  },
  {
   "cell_type": "code",
   "execution_count": null,
   "metadata": {
    "pycharm": {
     "is_executing": true
    }
   },
   "outputs": [],
   "source": [
    "dfa.columns"
   ]
  },
  {
   "cell_type": "code",
   "execution_count": null,
   "metadata": {
    "pycharm": {
     "is_executing": true
    }
   },
   "outputs": [],
   "source": [
    "dfa.index.names"
   ]
  },
  {
   "cell_type": "code",
   "execution_count": null,
   "metadata": {
    "pycharm": {
     "is_executing": true
    }
   },
   "outputs": [],
   "source": [
    "dfa[:5]"
   ]
  },
  {
   "cell_type": "code",
   "execution_count": null,
   "metadata": {
    "pycharm": {
     "is_executing": true
    }
   },
   "outputs": [],
   "source": [
    "dfaEf.plot(kind = 'line', figsize=(20,15))"
   ]
  },
  {
   "cell_type": "code",
   "execution_count": null,
   "metadata": {
    "pycharm": {
     "is_executing": true
    }
   },
   "outputs": [],
   "source": [
    "dfa[\"MotorData.ActCurrent\"].plot(kind = 'line', figsize=(20,15))"
   ]
  },
  {
   "cell_type": "code",
   "execution_count": null,
   "metadata": {},
   "outputs": [],
   "source": []
  },
  {
   "cell_type": "code",
   "execution_count": null,
   "metadata": {},
   "outputs": [],
   "source": [
    "dfaEfNorm.plot(kind = 'line', figsize=(20,15))"
   ]
  },
  {
   "cell_type": "code",
   "execution_count": null,
   "metadata": {},
   "outputs": [],
   "source": [
    "dfaEfAnorm.plot(kind = 'line', figsize=(20,15))"
   ]
  },
  {
   "cell_type": "code",
   "execution_count": null,
   "metadata": {
    "pycharm": {
     "is_executing": true
    }
   },
   "outputs": [],
   "source": []
  },
  {
   "cell_type": "code",
   "execution_count": null,
   "metadata": {
    "pycharm": {
     "is_executing": true
    }
   },
   "outputs": [],
   "source": []
  },
  {
   "cell_type": "code",
   "execution_count": null,
   "metadata": {
    "pycharm": {
     "is_executing": true
    }
   },
   "outputs": [],
   "source": []
  },
  {
   "cell_type": "code",
   "execution_count": null,
   "metadata": {
    "pycharm": {
     "is_executing": true
    }
   },
   "outputs": [],
   "source": []
  },
  {
   "cell_type": "code",
   "execution_count": null,
   "metadata": {
    "pycharm": {
     "is_executing": true,
     "name": "#%%\n"
    }
   },
   "outputs": [],
   "source": [
    "dfs.plot(subplots=True, figsize=(20,15),legend=\"button left\")"
   ]
  },
  {
   "cell_type": "code",
   "execution_count": null,
   "metadata": {
    "pycharm": {
     "is_executing": true
    }
   },
   "outputs": [],
   "source": [
    "dfs.columns"
   ]
  },
  {
   "cell_type": "code",
   "execution_count": null,
   "metadata": {
    "pycharm": {
     "is_executing": true
    }
   },
   "outputs": [],
   "source": [
    "dfsEf.plot(kind = 'line', figsize=(20,15))"
   ]
  },
  {
   "cell_type": "code",
   "execution_count": null,
   "metadata": {
    "pycharm": {
     "is_executing": true
    }
   },
   "outputs": [],
   "source": [
    "dfs[\"Label\"].value_counts()"
   ]
  },
  {
   "cell_type": "code",
   "execution_count": null,
   "metadata": {
    "pycharm": {
     "is_executing": true
    }
   },
   "outputs": [],
   "source": []
  },
  {
   "cell_type": "code",
   "execution_count": null,
   "metadata": {
    "pycharm": {
     "is_executing": true,
     "name": "#%%\n"
    }
   },
   "outputs": [],
   "source": [
    "dfn.plot(subplots=True, figsize=(20,15))"
   ]
  },
  {
   "cell_type": "code",
   "execution_count": null,
   "metadata": {
    "pycharm": {
     "is_executing": true
    }
   },
   "outputs": [],
   "source": [
    "dfn.columns"
   ]
  },
  {
   "cell_type": "code",
   "execution_count": null,
   "metadata": {
    "pycharm": {
     "is_executing": true
    }
   },
   "outputs": [],
   "source": [
    "dfnEf.plot(kind = 'line', figsize=(20,15))"
   ]
  },
  {
   "cell_type": "code",
   "execution_count": null,
   "metadata": {
    "pycharm": {
     "is_executing": true
    }
   },
   "outputs": [],
   "source": []
  },
  {
   "cell_type": "code",
   "execution_count": null,
   "metadata": {
    "pycharm": {
     "is_executing": true,
     "name": "#%%\n"
    }
   },
   "outputs": [],
   "source": [
    "dfl.plot(subplots=True, figsize=(20,15))"
   ]
  },
  {
   "cell_type": "code",
   "execution_count": null,
   "metadata": {
    "pycharm": {
     "is_executing": true
    }
   },
   "outputs": [],
   "source": [
    "dflEf.plot(kind = 'line', figsize=(20,15))"
   ]
  },
  {
   "cell_type": "code",
   "execution_count": null,
   "metadata": {
    "pycharm": {
     "is_executing": true
    }
   },
   "outputs": [],
   "source": []
  },
  {
   "cell_type": "code",
   "execution_count": null,
   "metadata": {
    "pycharm": {
     "is_executing": true,
     "name": "#%%\n"
    }
   },
   "outputs": [],
   "source": [
    "dfp.plot(subplots=True, figsize=(20,15))"
   ]
  },
  {
   "cell_type": "code",
   "execution_count": null,
   "metadata": {
    "pycharm": {
     "is_executing": true
    }
   },
   "outputs": [],
   "source": [
    "dfpEf.plot(kind = 'line', figsize=(20,15))"
   ]
  },
  {
   "cell_type": "code",
   "execution_count": null,
   "metadata": {
    "pycharm": {
     "is_executing": true
    }
   },
   "outputs": [],
   "source": [
    "dfa.columns"
   ]
  },
  {
   "cell_type": "code",
   "execution_count": null,
   "metadata": {
    "pycharm": {
     "is_executing": true,
     "name": "#%%\n"
    }
   },
   "outputs": [],
   "source": [
    "pd.plotting.autocorrelation_plot(dfaEf.loc[:,'MotorData.ActCurrent'])"
   ]
  },
  {
   "cell_type": "code",
   "execution_count": null,
   "metadata": {
    "pycharm": {
     "is_executing": true
    }
   },
   "outputs": [],
   "source": [
    "dfaEf.columns"
   ]
  },
  {
   "cell_type": "code",
   "execution_count": null,
   "metadata": {
    "pycharm": {
     "is_executing": true
    }
   },
   "outputs": [],
   "source": [
    "dfaEf.iloc[:,1].autocorr(lag=1)"
   ]
  },
  {
   "cell_type": "code",
   "execution_count": null,
   "metadata": {},
   "outputs": [],
   "source": [
    "dfa.columns[1]"
   ]
  },
  {
   "cell_type": "code",
   "execution_count": null,
   "metadata": {
    "pycharm": {
     "is_executing": true
    }
   },
   "outputs": [],
   "source": [
    "# Draw Plot\n",
    "def plotDfACorr(df):\n",
    "    f1,ax = plt.subplots(len(df.columns),1 , figsize=(18, 50))\n",
    "    for i in range(len(df.columns)):\n",
    "        plot_acf(df.iloc[:,i],ax=ax[i],zero=False,title=df.columns[i])   \n",
    "    plt.show()"
   ]
  },
  {
   "cell_type": "code",
   "execution_count": null,
   "metadata": {
    "pycharm": {
     "is_executing": true
    }
   },
   "outputs": [],
   "source": [
    "# Draw Plot\n",
    "def plotDfPCorr(df):\n",
    "    f1,ax = plt.subplots(len(df.columns),1 , figsize=(18, 50))\n",
    "    for i in range(len(df.columns)):\n",
    "        plot_pacf(df.iloc[:,i],ax=ax[i],zero=False,title=df.columns[i])\n",
    "    plt.show()"
   ]
  },
  {
   "cell_type": "code",
   "execution_count": null,
   "metadata": {
    "pycharm": {
     "is_executing": true
    }
   },
   "outputs": [],
   "source": []
  },
  {
   "cell_type": "code",
   "execution_count": null,
   "metadata": {
    "pycharm": {
     "is_executing": true
    }
   },
   "outputs": [],
   "source": [
    "plotDfACorr(dfa)"
   ]
  },
  {
   "cell_type": "code",
   "execution_count": null,
   "metadata": {
    "pycharm": {
     "is_executing": true
    }
   },
   "outputs": [],
   "source": [
    "plotDfPCorr(dfa)"
   ]
  },
  {
   "cell_type": "code",
   "execution_count": null,
   "metadata": {
    "pycharm": {
     "is_executing": true
    }
   },
   "outputs": [],
   "source": []
  },
  {
   "cell_type": "code",
   "execution_count": null,
   "metadata": {
    "pycharm": {
     "is_executing": true
    }
   },
   "outputs": [],
   "source": []
  },
  {
   "cell_type": "code",
   "execution_count": null,
   "metadata": {
    "pycharm": {
     "is_executing": true
    }
   },
   "outputs": [],
   "source": [
    "plotDfACorr(dfaEf)"
   ]
  },
  {
   "cell_type": "code",
   "execution_count": null,
   "metadata": {
    "pycharm": {
     "is_executing": true
    }
   },
   "outputs": [],
   "source": [
    "dfaEf.columns"
   ]
  },
  {
   "cell_type": "code",
   "execution_count": null,
   "metadata": {
    "pycharm": {
     "is_executing": true,
     "name": "#%%\n"
    }
   },
   "outputs": [],
   "source": [
    "plotDfPCorr(dfaEf)"
   ]
  },
  {
   "cell_type": "code",
   "execution_count": null,
   "metadata": {
    "pycharm": {
     "is_executing": true
    }
   },
   "outputs": [],
   "source": [
    "plotDfACorr(dfaEfNorm)"
   ]
  },
  {
   "cell_type": "code",
   "execution_count": null,
   "metadata": {},
   "outputs": [],
   "source": []
  },
  {
   "cell_type": "code",
   "execution_count": null,
   "metadata": {
    "pycharm": {
     "is_executing": true
    }
   },
   "outputs": [],
   "source": [
    "f1, (ax1, ax2, ax3,ax4, ax5) = plt.subplots(5,1 , figsize=(18, 50))\n",
    "#f3.tight_layout()\n",
    "\n",
    "plot_pacf(dfaEfNorm.iloc[:,1], ax=ax1,zero=False)\n",
    "plot_pacf(dfaEfNorm.iloc[:,2], ax=ax2,zero=False)\n",
    "plot_pacf(dfaEfNorm.iloc[:,3], ax=ax3,zero=False)\n",
    "plot_pacf(dfaEfNorm.iloc[:,4], ax=ax4,zero=False)\n",
    "plot_pacf(dfaEfNorm.iloc[:,5], ax=ax5,zero=False)\n",
    "\n",
    "\n",
    "plt.show()"
   ]
  },
  {
   "cell_type": "code",
   "execution_count": null,
   "metadata": {},
   "outputs": [],
   "source": []
  },
  {
   "cell_type": "code",
   "execution_count": null,
   "metadata": {
    "pycharm": {
     "is_executing": true
    }
   },
   "outputs": [],
   "source": [
    "plotDfACorr(dfaEfAnorm)\n"
   ]
  },
  {
   "cell_type": "code",
   "execution_count": null,
   "metadata": {},
   "outputs": [],
   "source": [
    "dfaEfAnorm.head()"
   ]
  },
  {
   "cell_type": "code",
   "execution_count": null,
   "metadata": {
    "pycharm": {
     "is_executing": true
    }
   },
   "outputs": [],
   "source": [
    "plotDfPCorr(dfaEfAnorm)"
   ]
  },
  {
   "cell_type": "code",
   "execution_count": null,
   "metadata": {
    "pycharm": {
     "is_executing": true
    }
   },
   "outputs": [],
   "source": []
  },
  {
   "cell_type": "code",
   "execution_count": null,
   "metadata": {
    "pycharm": {
     "is_executing": true
    }
   },
   "outputs": [],
   "source": [
    "plotDfACorr(dfnEf)"
   ]
  },
  {
   "cell_type": "code",
   "execution_count": null,
   "metadata": {
    "pycharm": {
     "is_executing": true
    }
   },
   "outputs": [],
   "source": [
    "plotDfPCorr(dfnEf)"
   ]
  },
  {
   "cell_type": "code",
   "execution_count": null,
   "metadata": {
    "pycharm": {
     "is_executing": true
    }
   },
   "outputs": [],
   "source": []
  },
  {
   "cell_type": "code",
   "execution_count": null,
   "metadata": {
    "pycharm": {
     "is_executing": true
    }
   },
   "outputs": [],
   "source": [
    "dfa.groupby(['Label']).corr()"
   ]
  },
  {
   "cell_type": "code",
   "execution_count": null,
   "metadata": {
    "pycharm": {
     "is_executing": true
    }
   },
   "outputs": [],
   "source": [
    "c1=dfa.groupby(['Label']).corr()"
   ]
  },
  {
   "cell_type": "code",
   "execution_count": null,
   "metadata": {
    "pycharm": {
     "is_executing": true,
     "name": "#%%\n"
    }
   },
   "outputs": [],
   "source": [
    "dfaCorr=dfa[['MotorData.ActCurrent', 'MotorData.ActPosition',\n",
    "       'MotorData.ActSpeed', 'MotorData.IsAcceleration', 'MotorData.IsForce']].corr()"
   ]
  },
  {
   "cell_type": "code",
   "execution_count": null,
   "metadata": {
    "pycharm": {
     "is_executing": true,
     "name": "#%%\n"
    }
   },
   "outputs": [],
   "source": [
    "def plotDfLegend(df,kind):\n",
    "    f = plt.figure()\n",
    "    if kind==\"hist\":\n",
    "        df.plot(kind=kind, ax=f.gca(),figsize=(18, 15),bins=50)\n",
    "    else:\n",
    "        df.plot(kind=kind, ax=f.gca(),figsize=(18, 15))\n",
    "    plt.legend(loc='center left', bbox_to_anchor=(1.0, 0.5))\n",
    "    plt.show()"
   ]
  },
  {
   "cell_type": "code",
   "execution_count": null,
   "metadata": {
    "pycharm": {
     "is_executing": true,
     "name": "#%%\n"
    }
   },
   "outputs": [],
   "source": [
    "plotDfLegend(dfaCorr,\"bar\")"
   ]
  },
  {
   "cell_type": "code",
   "execution_count": null,
   "metadata": {
    "pycharm": {
     "is_executing": true,
     "name": "#%%\n"
    }
   },
   "outputs": [],
   "source": [
    "[plotDfLegend(dfa.iloc[:,i],\"hist\") for i in range(len(dfa.columns))]"
   ]
  },
  {
   "cell_type": "code",
   "execution_count": null,
   "metadata": {
    "pycharm": {
     "is_executing": true,
     "name": "#%%\n"
    }
   },
   "outputs": [],
   "source": []
  },
  {
   "cell_type": "code",
   "execution_count": null,
   "metadata": {
    "pycharm": {
     "is_executing": true,
     "name": "#%%\n"
    }
   },
   "outputs": [],
   "source": []
  },
  {
   "cell_type": "code",
   "execution_count": null,
   "metadata": {
    "pycharm": {
     "is_executing": true
    }
   },
   "outputs": [],
   "source": [
    "dfa.columns"
   ]
  },
  {
   "cell_type": "code",
   "execution_count": null,
   "metadata": {
    "pycharm": {
     "is_executing": true
    }
   },
   "outputs": [],
   "source": [
    "dfaCorr=dfa[['MotorData.ActCurrent', 'MotorData.ActPosition',\n",
    "       'MotorData.ActSpeed', 'MotorData.IsAcceleration', 'MotorData.IsForce']].corr()"
   ]
  },
  {
   "cell_type": "code",
   "execution_count": null,
   "metadata": {
    "pycharm": {
     "is_executing": true
    }
   },
   "outputs": [],
   "source": [
    "def plotDfLegend(df,kind,bins,width=18,height=15):\n",
    "    f = plt.figure()\n",
    "    if kind==\"hist\":\n",
    "        df.plot(kind=kind, ax=f.gca(),figsize=(width, height),bins=bins)\n",
    "    else:\n",
    "        df.plot(kind=kind, ax=f.gca(),figsize=(width, height))\n",
    "    plt.legend(loc='center left', bbox_to_anchor=(1.0, 0.5))\n",
    "    plt.show()"
   ]
  },
  {
   "cell_type": "code",
   "execution_count": null,
   "metadata": {
    "pycharm": {
     "is_executing": true
    }
   },
   "outputs": [],
   "source": [
    "plotDfLegend(dfaCorr,\"bar\",10)"
   ]
  },
  {
   "cell_type": "code",
   "execution_count": null,
   "metadata": {
    "pycharm": {
     "is_executing": true
    }
   },
   "outputs": [],
   "source": []
  },
  {
   "cell_type": "code",
   "execution_count": null,
   "metadata": {
    "pycharm": {
     "is_executing": true
    }
   },
   "outputs": [],
   "source": [
    "[plotDfLegend(dfaEfNorm.iloc[:,i],\"hist\",10) for i in range(len(dfaEfNorm.columns))]"
   ]
  },
  {
   "cell_type": "code",
   "execution_count": null,
   "metadata": {
    "pycharm": {
     "is_executing": true
    }
   },
   "outputs": [],
   "source": [
    "[plotDfLegend(dfaEfAnorm.iloc[:,i],\"hist\",10) for i in range(len(dfaEfAnorm.columns))]"
   ]
  },
  {
   "cell_type": "code",
   "execution_count": null,
   "metadata": {},
   "outputs": [],
   "source": []
  },
  {
   "cell_type": "code",
   "execution_count": null,
   "metadata": {
    "pycharm": {
     "is_executing": true
    }
   },
   "outputs": [],
   "source": [
    "print(dfaEfNorm.columns)"
   ]
  },
  {
   "cell_type": "code",
   "execution_count": null,
   "metadata": {},
   "outputs": [],
   "source": []
  },
  {
   "cell_type": "code",
   "execution_count": null,
   "metadata": {},
   "outputs": [],
   "source": [
    "# fig, ax = plt.subplots(figsize=(10,5))\n",
    "# ax.matshow(dfn.corr())\n",
    "plt.figure(figsize=(40,7))\n",
    "plt.matshow(dfa.corr(), fignum=1)\n",
    "#plt.matshow(dfn.corr())\n",
    "plt.xticks(range(len(dfa.columns)), dfa.columns,rotation=90)\n",
    "plt.yticks(range(len(dfa.columns)), dfa.columns)\n",
    "plt.colorbar()\n",
    "plt.show()"
   ]
  },
  {
   "cell_type": "code",
   "execution_count": null,
   "metadata": {
    "pycharm": {
     "is_executing": true
    }
   },
   "outputs": [],
   "source": []
  },
  {
   "cell_type": "code",
   "execution_count": null,
   "metadata": {
    "pycharm": {
     "is_executing": true
    }
   },
   "outputs": [],
   "source": [
    "# fig, ax = plt.subplots(figsize=(10,5))\n",
    "# ax.matshow(dfn.corr())\n",
    "plt.figure(figsize=(20,7))\n",
    "plt.matshow(dfaEfNorm.groupby(['Label']).corr(), fignum=1)\n",
    "#plt.matshow(dfn.corr())\n",
    "plt.xticks(range(len(dfaEfNorm.columns)), dfaEfNorm.columns,rotation=90)\n",
    "plt.yticks(range(len(dfaEfNorm.columns)), dfaEfNorm.columns)\n",
    "plt.colorbar()\n",
    "plt.show()"
   ]
  },
  {
   "cell_type": "code",
   "execution_count": null,
   "metadata": {
    "pycharm": {
     "is_executing": true
    }
   },
   "outputs": [],
   "source": [
    "# fig, ax = plt.subplots(figsize=(10,5))\n",
    "# ax.matshow(dfn.corr())\n",
    "plt.figure(figsize=(40,7))\n",
    "plt.matshow(dfaEfAnorm.groupby(['Label']).corr(), fignum=1)\n",
    "#plt.matshow(dfn.corr())\n",
    "plt.xticks(range(len(dfaEfAnorm.columns)), dfaEfAnorm.columns,rotation=90)\n",
    "plt.yticks(range(len(dfaEfAnorm.columns)), dfaEfAnorm.columns)\n",
    "plt.colorbar()\n",
    "plt.show()"
   ]
  },
  {
   "cell_type": "code",
   "execution_count": null,
   "metadata": {
    "pycharm": {
     "is_executing": true
    }
   },
   "outputs": [],
   "source": [
    "# fig, ax = plt.subplots(figsize=(10,5))\n",
    "# ax.matshow(dfn.corr())\n",
    "plt.figure(figsize=(20,7))\n",
    "plt.matshow(dfn.corr(), fignum=1)\n",
    "#plt.matshow(dfn.corr())\n",
    "plt.xticks(range(len(dfn.columns)), dfn.columns,rotation=90)\n",
    "plt.yticks(range(len(dfn.columns)), dfn.columns)\n",
    "plt.colorbar()\n",
    "plt.show()"
   ]
  },
  {
   "cell_type": "code",
   "execution_count": null,
   "metadata": {
    "pycharm": {
     "is_executing": true
    }
   },
   "outputs": [],
   "source": [
    "corr = dfaEfNorm.corr()\n",
    "corr.style.background_gradient(cmap='coolwarm', axis=None)\n",
    "#corr.style.background_gradient(cmap='coolwarm')\n",
    "# 'RdBu_r' & 'BrBG' are other good diverging colormaps"
   ]
  },
  {
   "cell_type": "code",
   "execution_count": null,
   "metadata": {
    "pycharm": {
     "is_executing": true
    }
   },
   "outputs": [],
   "source": [
    "corr = dfaEfAnorm.corr()\n",
    "corr.style.background_gradient(cmap='coolwarm', axis=None)"
   ]
  },
  {
   "cell_type": "code",
   "execution_count": null,
   "metadata": {},
   "outputs": [],
   "source": []
  },
  {
   "cell_type": "code",
   "execution_count": null,
   "metadata": {
    "pycharm": {
     "is_executing": true
    }
   },
   "outputs": [],
   "source": [
    "dfaAnorm"
   ]
  },
  {
   "cell_type": "code",
   "execution_count": null,
   "metadata": {},
   "outputs": [],
   "source": []
  },
  {
   "cell_type": "code",
   "execution_count": null,
   "metadata": {},
   "outputs": [],
   "source": []
  },
  {
   "cell_type": "code",
   "execution_count": null,
   "metadata": {},
   "outputs": [],
   "source": [
    "dfaEfNorm.columns"
   ]
  },
  {
   "cell_type": "code",
   "execution_count": null,
   "metadata": {},
   "outputs": [],
   "source": [
    "[plotDfLegend(dfaEfNorm.iloc[:,i],\"hist\",30,width=10,height=5) for i in range(len(dfaEfNorm.columns))]"
   ]
  },
  {
   "cell_type": "code",
   "execution_count": null,
   "metadata": {},
   "outputs": [],
   "source": []
  },
  {
   "cell_type": "code",
   "execution_count": null,
   "metadata": {},
   "outputs": [],
   "source": [
    "dfaEfAnorm.columns"
   ]
  },
  {
   "cell_type": "code",
   "execution_count": null,
   "metadata": {},
   "outputs": [],
   "source": [
    "[plotDfLegend(dfaEfAnorm.iloc[:,i],\"hist\",10,width=5,height=5) for i in range(len(dfaEfAnorm.columns))]"
   ]
  },
  {
   "cell_type": "code",
   "execution_count": null,
   "metadata": {},
   "outputs": [],
   "source": []
  },
  {
   "cell_type": "code",
   "execution_count": null,
   "metadata": {},
   "outputs": [],
   "source": [
    "dfaEfNorm.shape\n"
   ]
  },
  {
   "cell_type": "code",
   "execution_count": null,
   "metadata": {},
   "outputs": [],
   "source": [
    "dfaEfAnorm.shape"
   ]
  },
  {
   "cell_type": "code",
   "execution_count": null,
   "metadata": {},
   "outputs": [],
   "source": [
    "import plotly.graph_objects as go\n",
    "\n",
    "for i,j in zip(dfaEfNorm.columns,dfaEfAnorm.columns):\n",
    "    fig = go.Figure()\n",
    "    fig.add_trace(go.Scatter(x=dfaEfNorm.index[:100], y=dfaEfNorm[i][:100],\n",
    "                    mode='markers',\n",
    "                    name='dfaEfNorm'))\n",
    "    fig.add_trace(go.Scatter(x=dfaEfAnorm.index[:100], y=dfaEfAnorm[j][:100],\n",
    "                    mode='markers',\n",
    "                    name='dfaEfAnorm'))\n",
    "    fig.update_layout(title=f\"{i}\")\n",
    "    fig.show()\n",
    "    fig.write_html(f\"{i}_scatterPlot.html\")"
   ]
  },
  {
   "cell_type": "code",
   "execution_count": null,
   "metadata": {},
   "outputs": [],
   "source": []
  },
  {
   "cell_type": "code",
   "execution_count": null,
   "metadata": {
    "pycharm": {
     "name": "#%%\n"
    }
   },
   "outputs": [],
   "source": [
    "import plotly.graph_objects as go\n",
    "\n",
    "for i,j in zip(dfaEfNorm.columns,dfaEfAnorm.columns):\n",
    "    fig = go.Figure()\n",
    "    fig.add_trace(go.Scatter(x=dfaEfNorm.index[:100], y=dfaEfNorm[i][:100]))\n",
    "    fig.add_trace(go.Scatter(x=dfaEfAnorm.index[:100], y=dfaEfAnorm[j][:100]))\n",
    "    fig.update_layout(title=f\"{i}\")\n",
    "    fig.show()\n",
    "    fig.write_html(f\"{i}_linePlot.html\")"
   ]
  },
  {
   "cell_type": "code",
   "execution_count": null,
   "metadata": {},
   "outputs": [],
   "source": []
  },
  {
   "cell_type": "code",
   "execution_count": null,
   "metadata": {},
   "outputs": [],
   "source": [
    "print(dfaEfNorm.index.min(),dfaEfNorm.index.max())\n",
    "print(dfaEfAnorm.index.min(),dfaEfAnorm.index.max())"
   ]
  },
  {
   "cell_type": "code",
   "execution_count": null,
   "metadata": {},
   "outputs": [],
   "source": []
  },
  {
   "cell_type": "code",
   "execution_count": null,
   "metadata": {
    "pycharm": {
     "is_executing": true
    }
   },
   "outputs": [],
   "source": [
    "dfaEfNorm.columns"
   ]
  },
  {
   "cell_type": "code",
   "execution_count": null,
   "metadata": {
    "pycharm": {
     "is_executing": true
    }
   },
   "outputs": [],
   "source": [
    "fig, ax = plt.subplots(figsize=(20,7)) \n",
    "mask = np.zeros_like(dfaEfNorm.corr())\n",
    "mask[np.triu_indices_from(mask)] = 1\n",
    "sns.heatmap(dfaEfNorm.corr(), mask= mask, ax= ax, annot= True)"
   ]
  },
  {
   "cell_type": "code",
   "execution_count": null,
   "metadata": {
    "pycharm": {
     "is_executing": true
    }
   },
   "outputs": [],
   "source": [
    "fig, ax = plt.subplots(figsize=(20,7)) \n",
    "mask = np.zeros_like(dfaEfAnorm.corr())\n",
    "mask[np.triu_indices_from(mask)] = 1\n",
    "sns.heatmap(dfaEfAnorm.corr(), mask= mask, ax= ax, annot= True)"
   ]
  },
  {
   "cell_type": "code",
   "execution_count": null,
   "metadata": {
    "pycharm": {
     "is_executing": true
    }
   },
   "outputs": [],
   "source": []
  },
  {
   "cell_type": "code",
   "execution_count": null,
   "metadata": {},
   "outputs": [],
   "source": []
  },
  {
   "cell_type": "code",
   "execution_count": null,
   "metadata": {},
   "outputs": [],
   "source": []
  },
  {
   "cell_type": "code",
   "execution_count": null,
   "metadata": {},
   "outputs": [],
   "source": []
  },
  {
   "cell_type": "code",
   "execution_count": null,
   "metadata": {},
   "outputs": [],
   "source": []
  },
  {
   "cell_type": "code",
   "execution_count": null,
   "metadata": {
    "pycharm": {
     "is_executing": true
    }
   },
   "outputs": [],
   "source": [
    "dfEfList=[dfaEf,dfsEf,dfnEf,dflEf,dfpEf]\n",
    "# Additive time series:\n",
    "# Value = Base Level + Trend + Seasonality + Error\n",
    "\n",
    "# Multiplicative Time Series:\n",
    "# Value = Base Level x Trend x Seasonality x Error\n",
    "\n",
    "from statsmodels.tsa.seasonal import seasonal_decompose\n",
    "for f in dfEfList:\n",
    "    \n",
    "    for i in f.columns:\n",
    "    \n",
    "        decomposition = seasonal_decompose(dfaEf[i][:100], model=\"additive\", freq=30)#model='multiplicative'\n",
    "    \n",
    "        \n",
    "        fig, ax = plt.subplots(nrows=1, ncols=2, figsize=(18,3), constrained_layout=True)\n",
    "        fig.subplots_adjust(wspace=0.15)\n",
    "        ax1= plt.subplot(121)\n",
    "        ax1.plot(decomposition.trend)\n",
    "        ax1.set_title(\"Trend--> \"+i+\"\")\n",
    "        ax2 = plt.subplot(122)\n",
    "        ax2.plot(decomposition.seasonal)\n",
    "        ax2.set_title(\"Seasonality--> \"+i+\"\")\n",
    "    \n",
    "\n",
    "plt.tight_layout()\n",
    "plt.show()\n",
    "\n"
   ]
  },
  {
   "cell_type": "code",
   "execution_count": null,
   "metadata": {
    "pycharm": {
     "is_executing": true
    }
   },
   "outputs": [],
   "source": [
    "from statsmodels.tsa.seasonal import seasonal_decompose\n",
    "result = seasonal_decompose(dfaEf.iloc[:1000,1], model=\"additive\", freq=30)\n",
    "result.plot()\n",
    "plt.show()\n"
   ]
  },
  {
   "cell_type": "code",
   "execution_count": null,
   "metadata": {
    "pycharm": {
     "is_executing": true
    }
   },
   "outputs": [],
   "source": [
    "# import matplotlib.dates as mdates\n",
    "\n",
    "fig, ax = plt.subplots(figsize=(10,7))\n",
    "plt.subplots_adjust(hspace=0.5)\n",
    "\n",
    "ax0 = plt.subplot(411)\n",
    "plt.plot(result.observed)\n",
    "ax0.set_title('obs')\n",
    "\n",
    "ax1 = plt.subplot(412)\n",
    "plt.plot(result.trend)\n",
    "ax1.set_title('trend')\n",
    "\n",
    "ax2 = plt.subplot(413)\n",
    "plt.plot(result.seasonal)\n",
    "ax2.set_title('seasonality')\n",
    "\n",
    "ax3 = plt.subplot(414)\n",
    "plt.plot(result.resid)\n",
    "ax3.set_title('residual')\n",
    "fig.autofmt_xdate()"
   ]
  },
  {
   "cell_type": "code",
   "execution_count": null,
   "metadata": {
    "pycharm": {
     "is_executing": true
    }
   },
   "outputs": [],
   "source": [
    "# vir <- viridis(n = 8,option = \"B\")\n",
    "# vir <- colorRampPalette(vir)\n",
    "\n",
    "# #Putting it together\n",
    "# corrplot(cor(intel[,5:8]),method = \"color\",type = \"lower\",\n",
    "#           sig.level = 0.01, insig = \"blank\",addCoef.col = \"green\",col = vir(200))"
   ]
  }
 ],
 "metadata": {
  "kernelspec": {
   "display_name": "Python 3",
   "language": "python",
   "name": "python3"
  },
  "language_info": {
   "codemirror_mode": {
    "name": "ipython",
    "version": 3
   },
   "file_extension": ".py",
   "mimetype": "text/x-python",
   "name": "python",
   "nbconvert_exporter": "python",
   "pygments_lexer": "ipython3",
   "version": "3.7.4"
  }
 },
 "nbformat": 4,
 "nbformat_minor": 1
}
